{
 "cells": [
  {
   "cell_type": "code",
   "execution_count": 1,
   "metadata": {},
   "outputs": [],
   "source": [
    "import pandas as pd\n",
    "from nltk.metrics import edit_distance, binary_distance\n",
    "from pyphonetics import Soundex\n",
    "import string\n",
    "import numpy as np\n",
    "import ast\n",
    "import matplotlib.pyplot as plt"
   ]
  },
  {
   "cell_type": "code",
   "execution_count": 30,
   "metadata": {},
   "outputs": [
    {
     "data": {
      "text/html": [
       "<div>\n",
       "<style scoped>\n",
       "    .dataframe tbody tr th:only-of-type {\n",
       "        vertical-align: middle;\n",
       "    }\n",
       "\n",
       "    .dataframe tbody tr th {\n",
       "        vertical-align: top;\n",
       "    }\n",
       "\n",
       "    .dataframe thead th {\n",
       "        text-align: right;\n",
       "    }\n",
       "</style>\n",
       "<table border=\"1\" class=\"dataframe\">\n",
       "  <thead>\n",
       "    <tr style=\"text-align: right;\">\n",
       "      <th></th>\n",
       "      <th>text</th>\n",
       "      <th>phonemes</th>\n",
       "      <th>soundex</th>\n",
       "    </tr>\n",
       "  </thead>\n",
       "  <tbody>\n",
       "    <tr>\n",
       "      <th>0</th>\n",
       "      <td>Peter Piper picked a peck of pickled peppers. ...</td>\n",
       "      <td>[['P', 'IY1', 'T', 'ER0'], ['P', 'AY1', 'P', '...</td>\n",
       "      <td>['P360', 'P160', 'P230', 'A000', 'P200', 'O100...</td>\n",
       "    </tr>\n",
       "    <tr>\n",
       "      <th>1</th>\n",
       "      <td>I saw Susie sitting in a shoe shine shop. Wher...</td>\n",
       "      <td>[['AY1'], ['S', 'AO1'], ['S', 'UW1', 'Z', 'IY0...</td>\n",
       "      <td>['I000', 'S000', 'S200', 'S352', 'I500', 'A000...</td>\n",
       "    </tr>\n",
       "    <tr>\n",
       "      <th>2</th>\n",
       "      <td>How many boards Could the Mongols hoard If the...</td>\n",
       "      <td>[['HH', 'AW1'], ['M', 'EH1', 'N', 'IY0'], ['B'...</td>\n",
       "      <td>['H000', 'M500', 'B632', 'C430', 'T000', 'M524...</td>\n",
       "    </tr>\n",
       "    <tr>\n",
       "      <th>3</th>\n",
       "      <td>How can a clam cram in a clean cream can?</td>\n",
       "      <td>[['HH', 'AW1'], ['K', 'AE1', 'N'], ['AH0'], ['...</td>\n",
       "      <td>['H000', 'C500', 'A000', 'C450', 'C650', 'I500...</td>\n",
       "    </tr>\n",
       "    <tr>\n",
       "      <th>4</th>\n",
       "      <td>Send toast to ten tense stout saints' ten tall...</td>\n",
       "      <td>[['S', 'EH1', 'N', 'D'], ['T', 'OW1', 'S', 'T'...</td>\n",
       "      <td>['S530', 'T230', 'T000', 'T500', 'T520', 'S330...</td>\n",
       "    </tr>\n",
       "    <tr>\n",
       "      <th>...</th>\n",
       "      <td>...</td>\n",
       "      <td>...</td>\n",
       "      <td>...</td>\n",
       "    </tr>\n",
       "    <tr>\n",
       "      <th>2671</th>\n",
       "      <td>Then step up mister and twist your tongue</td>\n",
       "      <td>[['DH', 'EH1', 'N'], ['S', 'T', 'EH1', 'P'], [...</td>\n",
       "      <td>['T500', 'S310', 'U100', 'M236', 'A530', 'T230...</td>\n",
       "    </tr>\n",
       "    <tr>\n",
       "      <th>2672</th>\n",
       "      <td>Now Kissle will whistle at busty Miss. Russell...</td>\n",
       "      <td>[['N', 'AW1'], ['K', 'IH1', 'S', 'AH0', 'L'], ...</td>\n",
       "      <td>['N000', 'K240', 'W400', 'W234', 'A300', 'B230...</td>\n",
       "    </tr>\n",
       "    <tr>\n",
       "      <th>2673</th>\n",
       "      <td>Purple paper people, purple paper people, purp...</td>\n",
       "      <td>[['P', 'ER1', 'P', 'AH0', 'L'], ['P', 'EY1', '...</td>\n",
       "      <td>['P614', 'P160', 'P140', 'P614', 'P160', 'P140...</td>\n",
       "    </tr>\n",
       "    <tr>\n",
       "      <th>2674</th>\n",
       "      <td>De doorgaans dappere Durgerdammer drukker Dirk...</td>\n",
       "      <td>[['D', 'IY1'], ['D', 'AO1', 'R', 'G', 'AH0', '...</td>\n",
       "      <td>['D000', 'D625', 'D160', 'D626', 'D626', 'D620...</td>\n",
       "    </tr>\n",
       "    <tr>\n",
       "      <th>2675</th>\n",
       "      <td>Nope, an antelope can't elope with a cantelope.</td>\n",
       "      <td>[['N', 'OW1', 'P'], ['AE1', 'N'], ['AE1', 'N',...</td>\n",
       "      <td>['N100', 'A500', 'A534', 'C530', 'E410', 'W300...</td>\n",
       "    </tr>\n",
       "  </tbody>\n",
       "</table>\n",
       "<p>2676 rows × 3 columns</p>\n",
       "</div>"
      ],
      "text/plain": [
       "                                                   text  \\\n",
       "0     Peter Piper picked a peck of pickled peppers. ...   \n",
       "1     I saw Susie sitting in a shoe shine shop. Wher...   \n",
       "2     How many boards Could the Mongols hoard If the...   \n",
       "3             How can a clam cram in a clean cream can?   \n",
       "4     Send toast to ten tense stout saints' ten tall...   \n",
       "...                                                 ...   \n",
       "2671          Then step up mister and twist your tongue   \n",
       "2672  Now Kissle will whistle at busty Miss. Russell...   \n",
       "2673  Purple paper people, purple paper people, purp...   \n",
       "2674  De doorgaans dappere Durgerdammer drukker Dirk...   \n",
       "2675    Nope, an antelope can't elope with a cantelope.   \n",
       "\n",
       "                                               phonemes  \\\n",
       "0     [['P', 'IY1', 'T', 'ER0'], ['P', 'AY1', 'P', '...   \n",
       "1     [['AY1'], ['S', 'AO1'], ['S', 'UW1', 'Z', 'IY0...   \n",
       "2     [['HH', 'AW1'], ['M', 'EH1', 'N', 'IY0'], ['B'...   \n",
       "3     [['HH', 'AW1'], ['K', 'AE1', 'N'], ['AH0'], ['...   \n",
       "4     [['S', 'EH1', 'N', 'D'], ['T', 'OW1', 'S', 'T'...   \n",
       "...                                                 ...   \n",
       "2671  [['DH', 'EH1', 'N'], ['S', 'T', 'EH1', 'P'], [...   \n",
       "2672  [['N', 'AW1'], ['K', 'IH1', 'S', 'AH0', 'L'], ...   \n",
       "2673  [['P', 'ER1', 'P', 'AH0', 'L'], ['P', 'EY1', '...   \n",
       "2674  [['D', 'IY1'], ['D', 'AO1', 'R', 'G', 'AH0', '...   \n",
       "2675  [['N', 'OW1', 'P'], ['AE1', 'N'], ['AE1', 'N',...   \n",
       "\n",
       "                                                soundex  \n",
       "0     ['P360', 'P160', 'P230', 'A000', 'P200', 'O100...  \n",
       "1     ['I000', 'S000', 'S200', 'S352', 'I500', 'A000...  \n",
       "2     ['H000', 'M500', 'B632', 'C430', 'T000', 'M524...  \n",
       "3     ['H000', 'C500', 'A000', 'C450', 'C650', 'I500...  \n",
       "4     ['S530', 'T230', 'T000', 'T500', 'T520', 'S330...  \n",
       "...                                                 ...  \n",
       "2671  ['T500', 'S310', 'U100', 'M236', 'A530', 'T230...  \n",
       "2672  ['N000', 'K240', 'W400', 'W234', 'A300', 'B230...  \n",
       "2673  ['P614', 'P160', 'P140', 'P614', 'P160', 'P140...  \n",
       "2674  ['D000', 'D625', 'D160', 'D626', 'D626', 'D620...  \n",
       "2675  ['N100', 'A500', 'A534', 'C530', 'E410', 'W300...  \n",
       "\n",
       "[2676 rows x 3 columns]"
      ]
     },
     "execution_count": 30,
     "metadata": {},
     "output_type": "execute_result"
    }
   ],
   "source": [
    "df = pd.read_csv('tt_dataset.csv')\n",
    "df"
   ]
  },
  {
   "cell_type": "code",
   "execution_count": 39,
   "metadata": {},
   "outputs": [
    {
     "name": "stdout",
     "output_type": "stream",
     "text": [
      "Something in a thirty-acre thermal thicket of thorns and thistles thumped and thundered threatening the three-D thoughts of Matthew the thug - although, theatrically, it was only the thirteen-thousand thistles and thorns through the underneath of his thigh that the thirty year old thug thought of that morning.\n",
      "[['S', 'AH1', 'M', 'TH', 'IH0', 'NG'], ['IH0', 'N'], ['AH0'], ['TH', 'ER1', 'T', 'IY0', 'AA2', 'K', 'S'], ['TH', 'ER1', 'M', 'AH0', 'L'], ['TH', 'IH1', 'K', 'IH0', 'T'], ['AH1', 'V'], ['TH', 'AO1', 'R', 'N', 'Z'], ['AH0', 'N', 'D'], ['TH', 'IH1', 'S', 'AH0', 'L', 'Z'], ['TH', 'AH1', 'M', 'P', 'T'], ['AH0', 'N', 'D'], ['TH', 'AH1', 'N', 'D', 'ER0', 'D'], ['TH', 'R', 'EH1', 'T', 'AH0', 'N', 'IH0', 'NG'], ['DH', 'AH0'], ['TH', 'R', 'IY1', 'D'], ['TH', 'AO1', 'T', 'S'], ['AH1', 'V'], ['M', 'AE1', 'TH', 'Y', 'UW0'], ['DH', 'AH0'], ['TH', 'AH1', 'G'], [], ['AO2', 'L', 'DH', 'OW1'], ['TH', 'IY0', 'AE1', 'T', 'R', 'IH0', 'K', 'AH0', 'L', 'IY0'], ['IH1', 'T'], ['W', 'AA1', 'Z'], ['OW1', 'N', 'L', 'IY0'], ['DH', 'AH0'], ['TH', 'ER1', 'T', 'IH0', 'N', 'HH', 'AW2', 'T', 'AH0', 'N', 'D'], ['TH', 'IH1', 'S', 'AH0', 'L', 'Z'], ['AH0', 'N', 'D'], ['TH', 'AO1', 'R', 'N', 'Z'], ['TH', 'R', 'UW1'], ['DH', 'AH0'], ['AH2', 'N', 'D', 'ER0', 'N', 'IY1', 'TH'], ['AH1', 'V'], ['HH', 'IH1', 'Z'], ['TH', 'AY1'], ['DH', 'AE1', 'T'], ['DH', 'AH0'], ['TH', 'ER1', 'D', 'IY0'], ['Y', 'IH1', 'R'], ['OW1', 'L', 'D'], ['TH', 'AH1', 'G'], ['TH', 'AO1', 'T'], ['AH1', 'V'], ['DH', 'AE1', 'T'], ['M', 'AO1', 'R', 'N', 'IH0', 'NG']]\n"
     ]
    }
   ],
   "source": [
    "\n",
    "print(df['text'].iloc[9])\n",
    "print(df['phonemes'].iloc[9])"
   ]
  },
  {
   "cell_type": "markdown",
   "metadata": {},
   "source": [
    "## implement metrics"
   ]
  },
  {
   "cell_type": "markdown",
   "metadata": {},
   "source": [
    "### for text"
   ]
  },
  {
   "cell_type": "code",
   "execution_count": 3,
   "metadata": {},
   "outputs": [],
   "source": [
    "### necessary functions\n",
    "\n",
    "# remove all punctuation from a string\n",
    "def remove_punctuation(input_string):\n",
    "    punctuation_chars = string.punctuation # Create a string containing all punctuation marks\n",
    "    no_punct = ''.join(char for char in input_string if char not in punctuation_chars) # Create new string without punctuation\n",
    "    \n",
    "    return no_punct\n",
    "\n"
   ]
  },
  {
   "cell_type": "code",
   "execution_count": 4,
   "metadata": {},
   "outputs": [],
   "source": [
    "# calculates levenshtein dist between every two words in a string\n",
    "# args: input string, boolean of allowing transpositions\n",
    "def text_levenshtein_dist_matrix(tongue_twister, transp):\n",
    "    words = remove_punctuation(tongue_twister).split(' ') # split tt into indiv words\n",
    "    levenshtein_arr = np.zeros((len(words), len(words))) # initialise distance array\n",
    "    for i in range(len(words)):\n",
    "        for j in range(i+1, len(words)):\n",
    "            dist = edit_distance(words[i], words[j], substitution_cost=1, transpositions=transp) # Transposition True because of difficulty to distinguish both words\n",
    "            levenshtein_arr[i, j] = dist\n",
    "            levenshtein_arr[j, i] = dist\n",
    "            \n",
    "    return levenshtein_arr\n",
    "\n",
    "\n",
    "# calculates binary dist between every two words in a string\n",
    "# args: input string\n",
    "def text_binary_dist_matrix(tongue_twister):\n",
    "    words = remove_punctuation(tongue_twister).split(' ') # split tt into indiv words\n",
    "    binary_dist_arr = np.zeros((len(words), len(words))) # initialise distance array\n",
    "    for i in range(len(words)):\n",
    "        for j in range(i, len(words)):\n",
    "            dist = binary_distance(words[i], words[j]) \n",
    "            binary_dist_arr[i, j] = dist\n",
    "            binary_dist_arr[j, i] = dist\n",
    "            \n",
    "    return binary_dist_arr"
   ]
  },
  {
   "cell_type": "markdown",
   "metadata": {},
   "source": [
    "### for phonemes"
   ]
  },
  {
   "cell_type": "code",
   "execution_count": 5,
   "metadata": {},
   "outputs": [],
   "source": [
    "### notwendige Funktionen\n",
    "\n",
    "# Nimmt zwei Listen mit Phonemen (, die je ein Wort darstellen) und gibt den Levenshtein-Abstand zwischen den Phonemlisten zurück\n",
    "def phoneme_levenshtein_dist(ph_list1, ph_list2):\n",
    "    len_str1 = len(ph_list1) + 1\n",
    "    len_str2 = len(ph_list2) + 1\n",
    "    matrix = [[0] * len_str2 for _ in range(len_str1)] # Erstellung der Matrix, in der die Abstände gespeichert werden\n",
    "    # Erste Zeile und Spalte füllen\n",
    "    for i in range(len_str1):\n",
    "        matrix[i][0] = i\n",
    "    for j in range(len_str2):\n",
    "        matrix[0][j] = j\n",
    "    # Restliche Matrix füllen\n",
    "    for i in range(1, len_str1):\n",
    "        for j in range(1, len_str2):\n",
    "            cost = 0 if ph_list1[i - 1] == ph_list2[j - 1] else 1\n",
    "            matrix[i][j] = min(\n",
    "                matrix[i - 1][j] + 1,      # Löschen\n",
    "                matrix[i][j - 1] + 1,      # Einfügen\n",
    "                matrix[i - 1][j - 1] + cost  # Ersetzen\n",
    "            )\n",
    "\n",
    "    # letzten Matrixwert mit Levenshtein-Abstand ausgeben\n",
    "    return matrix[-1][-1]\n"
   ]
  },
  {
   "cell_type": "code",
   "execution_count": 6,
   "metadata": {},
   "outputs": [],
   "source": [
    "\n",
    "def phoneme_levenshtein_dist_matrix(tt_phonemes):\n",
    "    levenshtein_arr = np.zeros((len(tt_phonemes), len(tt_phonemes))) # initialise distance array\n",
    "    for i in range(len(tt_phonemes)):\n",
    "        for j in range(i+1, len(tt_phonemes)):\n",
    "            dist = phoneme_levenshtein_dist(tt_phonemes[i], tt_phonemes[j])\n",
    "            levenshtein_arr[i, j] = dist\n",
    "            levenshtein_arr[j, i] = dist\n",
    "            \n",
    "    return levenshtein_arr\n",
    "\n",
    "\n",
    "# berechnet Gleichheit von Phonemlisten paarweise\n",
    "# args: Liste mit Phonemlisten\n",
    "def phoneme_binary_dist_matrix(ph_list):\n",
    "    binary_dist_arr = np.zeros((len(ph_list), len(ph_list))) # initialise distance array\n",
    "    for i in range(len(ph_list)):\n",
    "        for j in range(i, len(ph_list)):\n",
    "            if ph_list[i] != ph_list[j]:\n",
    "                binary_dist_arr[i, j] = 1\n",
    "                binary_dist_arr[j, i] = 1\n",
    "            \n",
    "    return binary_dist_arr\n"
   ]
  },
  {
   "cell_type": "markdown",
   "metadata": {},
   "source": [
    "### for soundex"
   ]
  },
  {
   "cell_type": "code",
   "execution_count": 7,
   "metadata": {},
   "outputs": [],
   "source": [
    "\n",
    "\n",
    "# berechnet Levenshtein-Abstand zwischen Soundex-Repräsentationen paarweise\n",
    "# args: Liste mit Soundex-Repräsentationen\n",
    "def soundex_levenshtein_dist_matrix(soundex_list):\n",
    "    levenshtein_arr = np.zeros((len(soundex_list), len(soundex_list))) # initialise distance array\n",
    "    for i in range(len(soundex_list)):\n",
    "        for j in range(i+1, len(soundex_list)):\n",
    "            dist = edit_distance(soundex_list[i], soundex_list[j], substitution_cost=1, transpositions=False)\n",
    "            levenshtein_arr[i, j] = dist\n",
    "            levenshtein_arr[j, i] = dist\n",
    "            \n",
    "    return levenshtein_arr\n",
    "\n",
    "\n",
    "\n",
    "\n",
    "# berechnet Gleichheit von Soundex-Repräsentationen paarweise\n",
    "# args: Liste mit Soundex-Repräsentationen\n",
    "def soundex_binary_dist_matrix(sx_list):\n",
    "    binary_dist_arr = np.zeros((len(sx_list), len(sx_list))) # initialise distance array\n",
    "    for i in range(len(sx_list)):\n",
    "        for j in range(i, len(sx_list)):\n",
    "            if sx_list[i] != sx_list[j]:\n",
    "                binary_dist_arr[i, j] = 1\n",
    "                binary_dist_arr[j, i] = 1\n",
    "            \n",
    "    return binary_dist_arr"
   ]
  },
  {
   "cell_type": "markdown",
   "metadata": {},
   "source": [
    "### Anwendung der Abstände"
   ]
  },
  {
   "cell_type": "markdown",
   "metadata": {},
   "source": [
    "#### erste beispielhafte Tests"
   ]
  },
  {
   "cell_type": "code",
   "execution_count": 8,
   "metadata": {},
   "outputs": [
    {
     "name": "stdout",
     "output_type": "stream",
     "text": [
      "I wish to wish the wish you wish to wish, but if you wish the wish the witch wishes, I won't wish the wish you wish to wish.\n",
      "[[0. 4. 2. 4. 3. 4. 3. 4. 2. 4. 3. 2. 3. 4. 3. 4. 3. 5. 6. 0. 4. 4. 3. 4.\n",
      "  3. 4. 2. 4.]\n",
      " [4. 0. 4. 0. 4. 0. 4. 0. 4. 0. 4. 3. 4. 0. 4. 0. 4. 2. 2. 4. 3. 0. 4. 0.\n",
      "  4. 0. 4. 0.]\n",
      " [2. 4. 0. 4. 2. 4. 2. 4. 0. 4. 3. 2. 2. 4. 2. 4. 2. 4. 6. 2. 3. 4. 2. 4.\n",
      "  2. 4. 0. 4.]\n",
      " [4. 0. 4. 0. 4. 0. 4. 0. 4. 0. 4. 3. 4. 0. 4. 0. 4. 2. 2. 4. 3. 0. 4. 0.\n",
      "  4. 0. 4. 0.]\n",
      " [3. 4. 2. 4. 0. 4. 3. 4. 2. 4. 3. 3. 3. 4. 0. 4. 0. 4. 4. 3. 4. 4. 0. 4.\n",
      "  3. 4. 2. 4.]\n",
      " [4. 0. 4. 0. 4. 0. 4. 0. 4. 0. 4. 3. 4. 0. 4. 0. 4. 2. 2. 4. 3. 0. 4. 0.\n",
      "  4. 0. 4. 0.]\n",
      " [3. 4. 2. 4. 3. 4. 0. 4. 2. 4. 3. 3. 0. 4. 3. 4. 3. 5. 6. 3. 3. 4. 3. 4.\n",
      "  0. 4. 2. 4.]\n",
      " [4. 0. 4. 0. 4. 0. 4. 0. 4. 0. 4. 3. 4. 0. 4. 0. 4. 2. 2. 4. 3. 0. 4. 0.\n",
      "  4. 0. 4. 0.]\n",
      " [2. 4. 0. 4. 2. 4. 2. 4. 0. 4. 3. 2. 2. 4. 2. 4. 2. 4. 6. 2. 3. 4. 2. 4.\n",
      "  2. 4. 0. 4.]\n",
      " [4. 0. 4. 0. 4. 0. 4. 0. 4. 0. 4. 3. 4. 0. 4. 0. 4. 2. 2. 4. 3. 0. 4. 0.\n",
      "  4. 0. 4. 0.]\n",
      " [3. 4. 3. 4. 3. 4. 3. 4. 3. 4. 0. 3. 3. 4. 3. 4. 3. 4. 6. 3. 3. 4. 3. 4.\n",
      "  3. 4. 3. 4.]\n",
      " [2. 3. 2. 3. 3. 3. 3. 3. 2. 3. 3. 0. 3. 3. 3. 3. 3. 4. 5. 2. 4. 3. 3. 3.\n",
      "  3. 3. 2. 3.]\n",
      " [3. 4. 2. 4. 3. 4. 0. 4. 2. 4. 3. 3. 0. 4. 3. 4. 3. 5. 6. 3. 3. 4. 3. 4.\n",
      "  0. 4. 2. 4.]\n",
      " [4. 0. 4. 0. 4. 0. 4. 0. 4. 0. 4. 3. 4. 0. 4. 0. 4. 2. 2. 4. 3. 0. 4. 0.\n",
      "  4. 0. 4. 0.]\n",
      " [3. 4. 2. 4. 0. 4. 3. 4. 2. 4. 3. 3. 3. 4. 0. 4. 0. 4. 4. 3. 4. 4. 0. 4.\n",
      "  3. 4. 2. 4.]\n",
      " [4. 0. 4. 0. 4. 0. 4. 0. 4. 0. 4. 3. 4. 0. 4. 0. 4. 2. 2. 4. 3. 0. 4. 0.\n",
      "  4. 0. 4. 0.]\n",
      " [3. 4. 2. 4. 0. 4. 3. 4. 2. 4. 3. 3. 3. 4. 0. 4. 0. 4. 4. 3. 4. 4. 0. 4.\n",
      "  3. 4. 2. 4.]\n",
      " [5. 2. 4. 2. 4. 2. 5. 2. 4. 2. 4. 4. 5. 2. 4. 2. 4. 0. 4. 5. 4. 2. 4. 2.\n",
      "  5. 2. 4. 2.]\n",
      " [6. 2. 6. 2. 4. 2. 6. 2. 6. 2. 6. 5. 6. 2. 4. 2. 4. 4. 0. 6. 5. 2. 4. 2.\n",
      "  6. 2. 6. 2.]\n",
      " [0. 4. 2. 4. 3. 4. 3. 4. 2. 4. 3. 2. 3. 4. 3. 4. 3. 5. 6. 0. 4. 4. 3. 4.\n",
      "  3. 4. 2. 4.]\n",
      " [4. 3. 3. 3. 4. 3. 3. 3. 3. 3. 3. 4. 3. 3. 4. 3. 4. 4. 5. 4. 0. 3. 4. 3.\n",
      "  3. 3. 3. 3.]\n",
      " [4. 0. 4. 0. 4. 0. 4. 0. 4. 0. 4. 3. 4. 0. 4. 0. 4. 2. 2. 4. 3. 0. 4. 0.\n",
      "  4. 0. 4. 0.]\n",
      " [3. 4. 2. 4. 0. 4. 3. 4. 2. 4. 3. 3. 3. 4. 0. 4. 0. 4. 4. 3. 4. 4. 0. 4.\n",
      "  3. 4. 2. 4.]\n",
      " [4. 0. 4. 0. 4. 0. 4. 0. 4. 0. 4. 3. 4. 0. 4. 0. 4. 2. 2. 4. 3. 0. 4. 0.\n",
      "  4. 0. 4. 0.]\n",
      " [3. 4. 2. 4. 3. 4. 0. 4. 2. 4. 3. 3. 0. 4. 3. 4. 3. 5. 6. 3. 3. 4. 3. 4.\n",
      "  0. 4. 2. 4.]\n",
      " [4. 0. 4. 0. 4. 0. 4. 0. 4. 0. 4. 3. 4. 0. 4. 0. 4. 2. 2. 4. 3. 0. 4. 0.\n",
      "  4. 0. 4. 0.]\n",
      " [2. 4. 0. 4. 2. 4. 2. 4. 0. 4. 3. 2. 2. 4. 2. 4. 2. 4. 6. 2. 3. 4. 2. 4.\n",
      "  2. 4. 0. 4.]\n",
      " [4. 0. 4. 0. 4. 0. 4. 0. 4. 0. 4. 3. 4. 0. 4. 0. 4. 2. 2. 4. 3. 0. 4. 0.\n",
      "  4. 0. 4. 0.]] \n",
      " [[0. 1. 1. 1. 1. 1. 1. 1. 1. 1. 1. 1. 1. 1. 1. 1. 1. 1. 1. 0. 1. 1. 1. 1.\n",
      "  1. 1. 1. 1.]\n",
      " [1. 0. 1. 0. 1. 0. 1. 0. 1. 0. 1. 1. 1. 0. 1. 0. 1. 1. 1. 1. 1. 0. 1. 0.\n",
      "  1. 0. 1. 0.]\n",
      " [1. 1. 0. 1. 1. 1. 1. 1. 0. 1. 1. 1. 1. 1. 1. 1. 1. 1. 1. 1. 1. 1. 1. 1.\n",
      "  1. 1. 0. 1.]\n",
      " [1. 0. 1. 0. 1. 0. 1. 0. 1. 0. 1. 1. 1. 0. 1. 0. 1. 1. 1. 1. 1. 0. 1. 0.\n",
      "  1. 0. 1. 0.]\n",
      " [1. 1. 1. 1. 0. 1. 1. 1. 1. 1. 1. 1. 1. 1. 0. 1. 0. 1. 1. 1. 1. 1. 0. 1.\n",
      "  1. 1. 1. 1.]\n",
      " [1. 0. 1. 0. 1. 0. 1. 0. 1. 0. 1. 1. 1. 0. 1. 0. 1. 1. 1. 1. 1. 0. 1. 0.\n",
      "  1. 0. 1. 0.]\n",
      " [1. 1. 1. 1. 1. 1. 0. 1. 1. 1. 1. 1. 0. 1. 1. 1. 1. 1. 1. 1. 1. 1. 1. 1.\n",
      "  0. 1. 1. 1.]\n",
      " [1. 0. 1. 0. 1. 0. 1. 0. 1. 0. 1. 1. 1. 0. 1. 0. 1. 1. 1. 1. 1. 0. 1. 0.\n",
      "  1. 0. 1. 0.]\n",
      " [1. 1. 0. 1. 1. 1. 1. 1. 0. 1. 1. 1. 1. 1. 1. 1. 1. 1. 1. 1. 1. 1. 1. 1.\n",
      "  1. 1. 0. 1.]\n",
      " [1. 0. 1. 0. 1. 0. 1. 0. 1. 0. 1. 1. 1. 0. 1. 0. 1. 1. 1. 1. 1. 0. 1. 0.\n",
      "  1. 0. 1. 0.]\n",
      " [1. 1. 1. 1. 1. 1. 1. 1. 1. 1. 0. 1. 1. 1. 1. 1. 1. 1. 1. 1. 1. 1. 1. 1.\n",
      "  1. 1. 1. 1.]\n",
      " [1. 1. 1. 1. 1. 1. 1. 1. 1. 1. 1. 0. 1. 1. 1. 1. 1. 1. 1. 1. 1. 1. 1. 1.\n",
      "  1. 1. 1. 1.]\n",
      " [1. 1. 1. 1. 1. 1. 0. 1. 1. 1. 1. 1. 0. 1. 1. 1. 1. 1. 1. 1. 1. 1. 1. 1.\n",
      "  0. 1. 1. 1.]\n",
      " [1. 0. 1. 0. 1. 0. 1. 0. 1. 0. 1. 1. 1. 0. 1. 0. 1. 1. 1. 1. 1. 0. 1. 0.\n",
      "  1. 0. 1. 0.]\n",
      " [1. 1. 1. 1. 0. 1. 1. 1. 1. 1. 1. 1. 1. 1. 0. 1. 0. 1. 1. 1. 1. 1. 0. 1.\n",
      "  1. 1. 1. 1.]\n",
      " [1. 0. 1. 0. 1. 0. 1. 0. 1. 0. 1. 1. 1. 0. 1. 0. 1. 1. 1. 1. 1. 0. 1. 0.\n",
      "  1. 0. 1. 0.]\n",
      " [1. 1. 1. 1. 0. 1. 1. 1. 1. 1. 1. 1. 1. 1. 0. 1. 0. 1. 1. 1. 1. 1. 0. 1.\n",
      "  1. 1. 1. 1.]\n",
      " [1. 1. 1. 1. 1. 1. 1. 1. 1. 1. 1. 1. 1. 1. 1. 1. 1. 0. 1. 1. 1. 1. 1. 1.\n",
      "  1. 1. 1. 1.]\n",
      " [1. 1. 1. 1. 1. 1. 1. 1. 1. 1. 1. 1. 1. 1. 1. 1. 1. 1. 0. 1. 1. 1. 1. 1.\n",
      "  1. 1. 1. 1.]\n",
      " [0. 1. 1. 1. 1. 1. 1. 1. 1. 1. 1. 1. 1. 1. 1. 1. 1. 1. 1. 0. 1. 1. 1. 1.\n",
      "  1. 1. 1. 1.]\n",
      " [1. 1. 1. 1. 1. 1. 1. 1. 1. 1. 1. 1. 1. 1. 1. 1. 1. 1. 1. 1. 0. 1. 1. 1.\n",
      "  1. 1. 1. 1.]\n",
      " [1. 0. 1. 0. 1. 0. 1. 0. 1. 0. 1. 1. 1. 0. 1. 0. 1. 1. 1. 1. 1. 0. 1. 0.\n",
      "  1. 0. 1. 0.]\n",
      " [1. 1. 1. 1. 0. 1. 1. 1. 1. 1. 1. 1. 1. 1. 0. 1. 0. 1. 1. 1. 1. 1. 0. 1.\n",
      "  1. 1. 1. 1.]\n",
      " [1. 0. 1. 0. 1. 0. 1. 0. 1. 0. 1. 1. 1. 0. 1. 0. 1. 1. 1. 1. 1. 0. 1. 0.\n",
      "  1. 0. 1. 0.]\n",
      " [1. 1. 1. 1. 1. 1. 0. 1. 1. 1. 1. 1. 0. 1. 1. 1. 1. 1. 1. 1. 1. 1. 1. 1.\n",
      "  0. 1. 1. 1.]\n",
      " [1. 0. 1. 0. 1. 0. 1. 0. 1. 0. 1. 1. 1. 0. 1. 0. 1. 1. 1. 1. 1. 0. 1. 0.\n",
      "  1. 0. 1. 0.]\n",
      " [1. 1. 0. 1. 1. 1. 1. 1. 0. 1. 1. 1. 1. 1. 1. 1. 1. 1. 1. 1. 1. 1. 1. 1.\n",
      "  1. 1. 0. 1.]\n",
      " [1. 0. 1. 0. 1. 0. 1. 0. 1. 0. 1. 1. 1. 0. 1. 0. 1. 1. 1. 1. 1. 0. 1. 0.\n",
      "  1. 0. 1. 0.]]\n",
      "[['S', 'IH1', 'K', 'S'], ['S', 'IH1', 'K'], ['HH', 'IH1', 'K', 'S'], ['N', 'IH1', 'K'], ['S', 'IH1', 'K', 'S'], ['S', 'L', 'IH1', 'K'], ['B', 'R', 'IH1', 'K', 'S'], ['W', 'IH1', 'DH'], ['P', 'IH1', 'K', 'S'], ['AH0', 'N', 'D'], ['S', 'T', 'IH1', 'K', 'S']]\n",
      "[[0. 1. 1. 2. 0. 2. 2. 3. 1. 4. 1.]\n",
      " [1. 0. 2. 1. 1. 1. 3. 2. 2. 3. 2.]\n",
      " [1. 2. 0. 2. 1. 3. 2. 3. 1. 4. 2.]\n",
      " [2. 1. 2. 0. 2. 2. 3. 2. 2. 3. 3.]\n",
      " [0. 1. 1. 2. 0. 2. 2. 3. 1. 4. 1.]\n",
      " [2. 1. 3. 2. 2. 0. 3. 3. 3. 4. 2.]\n",
      " [2. 3. 2. 3. 2. 3. 0. 4. 2. 5. 2.]\n",
      " [3. 2. 3. 2. 3. 3. 4. 0. 3. 3. 4.]\n",
      " [1. 2. 1. 2. 1. 3. 2. 3. 0. 4. 2.]\n",
      " [4. 3. 4. 3. 4. 4. 5. 3. 4. 0. 5.]\n",
      " [1. 2. 2. 3. 1. 2. 2. 4. 2. 5. 0.]] \n",
      " [[0. 1. 1. 1. 0. 1. 1. 1. 1. 1. 1.]\n",
      " [1. 0. 1. 1. 1. 1. 1. 1. 1. 1. 1.]\n",
      " [1. 1. 0. 1. 1. 1. 1. 1. 1. 1. 1.]\n",
      " [1. 1. 1. 0. 1. 1. 1. 1. 1. 1. 1.]\n",
      " [0. 1. 1. 1. 0. 1. 1. 1. 1. 1. 1.]\n",
      " [1. 1. 1. 1. 1. 0. 1. 1. 1. 1. 1.]\n",
      " [1. 1. 1. 1. 1. 1. 0. 1. 1. 1. 1.]\n",
      " [1. 1. 1. 1. 1. 1. 1. 0. 1. 1. 1.]\n",
      " [1. 1. 1. 1. 1. 1. 1. 1. 0. 1. 1.]\n",
      " [1. 1. 1. 1. 1. 1. 1. 1. 1. 0. 1.]\n",
      " [1. 1. 1. 1. 1. 1. 1. 1. 1. 1. 0.]]\n",
      "['S200', 'S200', 'H200', 'N200', 'S200', 'S420', 'B620', 'W300', 'P200', 'A530', 'S320']\n",
      "[[0. 0. 1. 1. 0. 2. 3. 2. 1. 3. 2.]\n",
      " [0. 0. 1. 1. 0. 2. 3. 2. 1. 3. 2.]\n",
      " [1. 1. 0. 1. 1. 3. 3. 2. 1. 3. 3.]\n",
      " [1. 1. 1. 0. 1. 3. 3. 2. 1. 3. 3.]\n",
      " [0. 0. 1. 1. 0. 2. 3. 2. 1. 3. 2.]\n",
      " [2. 2. 3. 3. 2. 0. 2. 3. 3. 3. 1.]\n",
      " [3. 3. 3. 3. 3. 2. 0. 3. 3. 3. 2.]\n",
      " [2. 2. 2. 2. 2. 3. 3. 0. 2. 3. 2.]\n",
      " [1. 1. 1. 1. 1. 3. 3. 2. 0. 3. 3.]\n",
      " [3. 3. 3. 3. 3. 3. 3. 3. 3. 0. 3.]\n",
      " [2. 2. 3. 3. 2. 1. 2. 2. 3. 3. 0.]] \n",
      " [[0. 0. 1. 1. 0. 1. 1. 1. 1. 1. 1.]\n",
      " [0. 0. 1. 1. 0. 1. 1. 1. 1. 1. 1.]\n",
      " [1. 1. 0. 1. 1. 1. 1. 1. 1. 1. 1.]\n",
      " [1. 1. 1. 0. 1. 1. 1. 1. 1. 1. 1.]\n",
      " [0. 0. 1. 1. 0. 1. 1. 1. 1. 1. 1.]\n",
      " [1. 1. 1. 1. 1. 0. 1. 1. 1. 1. 1.]\n",
      " [1. 1. 1. 1. 1. 1. 0. 1. 1. 1. 1.]\n",
      " [1. 1. 1. 1. 1. 1. 1. 0. 1. 1. 1.]\n",
      " [1. 1. 1. 1. 1. 1. 1. 1. 0. 1. 1.]\n",
      " [1. 1. 1. 1. 1. 1. 1. 1. 1. 0. 1.]\n",
      " [1. 1. 1. 1. 1. 1. 1. 1. 1. 1. 0.]]\n"
     ]
    }
   ],
   "source": [
    "test_text = df['text'][16]\n",
    "test_phonemes = ast.literal_eval(df['phonemes'][15])\n",
    "test_soundex = ast.literal_eval(df['soundex'][15])\n",
    "\n",
    "print(test_text)\n",
    "print(text_levenshtein_dist_matrix(test_text, False), '\\n', text_binary_dist_matrix(test_text))\n",
    "print(test_phonemes)\n",
    "print(phoneme_levenshtein_dist_matrix(test_phonemes), '\\n', phoneme_binary_dist_matrix(test_phonemes))\n",
    "print(test_soundex)\n",
    "print(soundex_levenshtein_dist_matrix(test_soundex), '\\n', soundex_binary_dist_matrix(test_soundex))"
   ]
  },
  {
   "cell_type": "markdown",
   "metadata": {},
   "source": [
    "#### Datensatzimporte"
   ]
  },
  {
   "cell_type": "code",
   "execution_count": 9,
   "metadata": {},
   "outputs": [],
   "source": [
    "# Datensets einlesen\n",
    "sentence = pd.read_csv(r'sentence_dataset.csv',header= 0)\n",
    "tt = pd.read_csv(r'tt_dataset.csv', delimiter= ',', header= 0)"
   ]
  },
  {
   "cell_type": "code",
   "execution_count": 10,
   "metadata": {},
   "outputs": [
    {
     "data": {
      "text/html": [
       "<div>\n",
       "<style scoped>\n",
       "    .dataframe tbody tr th:only-of-type {\n",
       "        vertical-align: middle;\n",
       "    }\n",
       "\n",
       "    .dataframe tbody tr th {\n",
       "        vertical-align: top;\n",
       "    }\n",
       "\n",
       "    .dataframe thead th {\n",
       "        text-align: right;\n",
       "    }\n",
       "</style>\n",
       "<table border=\"1\" class=\"dataframe\">\n",
       "  <thead>\n",
       "    <tr style=\"text-align: right;\">\n",
       "      <th></th>\n",
       "      <th>sentence</th>\n",
       "      <th>phonemes</th>\n",
       "      <th>soundex</th>\n",
       "    </tr>\n",
       "  </thead>\n",
       "  <tbody>\n",
       "    <tr>\n",
       "      <th>0</th>\n",
       "      <td>He was accorded a State funeral and was buried...</td>\n",
       "      <td>[['HH', 'IY1'], ['W', 'AA1', 'Z'], ['AH0', 'K'...</td>\n",
       "      <td>['H000', 'W200', 'A263', 'A000', 'S330', 'F564...</td>\n",
       "    </tr>\n",
       "    <tr>\n",
       "      <th>1</th>\n",
       "      <td>In American English whilst is considered to be...</td>\n",
       "      <td>[['IH0', 'N'], ['AH0', 'M', 'EH1', 'R', 'AH0',...</td>\n",
       "      <td>['I500', 'A562', 'E524', 'W423', 'I200', 'C523...</td>\n",
       "    </tr>\n",
       "    <tr>\n",
       "      <th>2</th>\n",
       "      <td>Once again she is seen performing on a compute...</td>\n",
       "      <td>[['W', 'AH1', 'N', 'S'], ['AH0', 'G', 'EH1', '...</td>\n",
       "      <td>['O520', 'A250', 'S000', 'I200', 'S500', 'P616...</td>\n",
       "    </tr>\n",
       "    <tr>\n",
       "      <th>3</th>\n",
       "      <td>Hippety Hopper returns in McKimsons Pop Im Pop.</td>\n",
       "      <td>[['HH', 'IH1', 'P', 'AH0', 'T', 'IY0'], ['HH',...</td>\n",
       "      <td>['H130', 'H160', 'R365', 'I500', 'M252', 'P100...</td>\n",
       "    </tr>\n",
       "    <tr>\n",
       "      <th>4</th>\n",
       "      <td>Today their programs are available on the Inte...</td>\n",
       "      <td>[['T', 'AH0', 'D', 'EY1'], ['DH', 'EH1', 'R'],...</td>\n",
       "      <td>['T300', 'T600', 'P626', 'A600', 'A141', 'O500...</td>\n",
       "    </tr>\n",
       "    <tr>\n",
       "      <th>...</th>\n",
       "      <td>...</td>\n",
       "      <td>...</td>\n",
       "      <td>...</td>\n",
       "    </tr>\n",
       "    <tr>\n",
       "      <th>101098</th>\n",
       "      <td>Force B  Adml.</td>\n",
       "      <td>[['F', 'AO1', 'R', 'S'], ['B', 'IY1'], [], ['A...</td>\n",
       "      <td>['F620', 'B000', 'A354']</td>\n",
       "    </tr>\n",
       "    <tr>\n",
       "      <th>101099</th>\n",
       "      <td>It has less complex feature than other micropr...</td>\n",
       "      <td>[['IH1', 'T'], ['HH', 'AE1', 'Z'], ['L', 'EH1'...</td>\n",
       "      <td>['I300', 'H200', 'L200', 'C514', 'F360', 'T500...</td>\n",
       "    </tr>\n",
       "    <tr>\n",
       "      <th>101100</th>\n",
       "      <td>Here his attention was drawn to geology.</td>\n",
       "      <td>[['HH', 'IY1', 'R'], ['HH', 'IH1', 'Z'], ['AH0...</td>\n",
       "      <td>['H600', 'H200', 'A353', 'W200', 'D650', 'T000...</td>\n",
       "    </tr>\n",
       "    <tr>\n",
       "      <th>101101</th>\n",
       "      <td>Every element of Milnor Ktheory can be written...</td>\n",
       "      <td>[['EH1', 'V', 'ER0', 'IY0'], ['EH1', 'L', 'AH0...</td>\n",
       "      <td>['E160', 'E455', 'O100', 'M456', 'K360', 'C500...</td>\n",
       "    </tr>\n",
       "    <tr>\n",
       "      <th>101102</th>\n",
       "      <td>The south wing contained the owners private ap...</td>\n",
       "      <td>[['DH', 'AH0'], ['S', 'AW1', 'TH'], ['W', 'IH1...</td>\n",
       "      <td>['T000', 'S300', 'W520', 'C535', 'T000', 'O562...</td>\n",
       "    </tr>\n",
       "  </tbody>\n",
       "</table>\n",
       "<p>101103 rows × 3 columns</p>\n",
       "</div>"
      ],
      "text/plain": [
       "                                                 sentence  \\\n",
       "0       He was accorded a State funeral and was buried...   \n",
       "1       In American English whilst is considered to be...   \n",
       "2       Once again she is seen performing on a compute...   \n",
       "3         Hippety Hopper returns in McKimsons Pop Im Pop.   \n",
       "4       Today their programs are available on the Inte...   \n",
       "...                                                   ...   \n",
       "101098                                     Force B  Adml.   \n",
       "101099  It has less complex feature than other micropr...   \n",
       "101100           Here his attention was drawn to geology.   \n",
       "101101  Every element of Milnor Ktheory can be written...   \n",
       "101102  The south wing contained the owners private ap...   \n",
       "\n",
       "                                                 phonemes  \\\n",
       "0       [['HH', 'IY1'], ['W', 'AA1', 'Z'], ['AH0', 'K'...   \n",
       "1       [['IH0', 'N'], ['AH0', 'M', 'EH1', 'R', 'AH0',...   \n",
       "2       [['W', 'AH1', 'N', 'S'], ['AH0', 'G', 'EH1', '...   \n",
       "3       [['HH', 'IH1', 'P', 'AH0', 'T', 'IY0'], ['HH',...   \n",
       "4       [['T', 'AH0', 'D', 'EY1'], ['DH', 'EH1', 'R'],...   \n",
       "...                                                   ...   \n",
       "101098  [['F', 'AO1', 'R', 'S'], ['B', 'IY1'], [], ['A...   \n",
       "101099  [['IH1', 'T'], ['HH', 'AE1', 'Z'], ['L', 'EH1'...   \n",
       "101100  [['HH', 'IY1', 'R'], ['HH', 'IH1', 'Z'], ['AH0...   \n",
       "101101  [['EH1', 'V', 'ER0', 'IY0'], ['EH1', 'L', 'AH0...   \n",
       "101102  [['DH', 'AH0'], ['S', 'AW1', 'TH'], ['W', 'IH1...   \n",
       "\n",
       "                                                  soundex  \n",
       "0       ['H000', 'W200', 'A263', 'A000', 'S330', 'F564...  \n",
       "1       ['I500', 'A562', 'E524', 'W423', 'I200', 'C523...  \n",
       "2       ['O520', 'A250', 'S000', 'I200', 'S500', 'P616...  \n",
       "3       ['H130', 'H160', 'R365', 'I500', 'M252', 'P100...  \n",
       "4       ['T300', 'T600', 'P626', 'A600', 'A141', 'O500...  \n",
       "...                                                   ...  \n",
       "101098                           ['F620', 'B000', 'A354']  \n",
       "101099  ['I300', 'H200', 'L200', 'C514', 'F360', 'T500...  \n",
       "101100  ['H600', 'H200', 'A353', 'W200', 'D650', 'T000...  \n",
       "101101  ['E160', 'E455', 'O100', 'M456', 'K360', 'C500...  \n",
       "101102  ['T000', 'S300', 'W520', 'C535', 'T000', 'O562...  \n",
       "\n",
       "[101103 rows x 3 columns]"
      ]
     },
     "execution_count": 10,
     "metadata": {},
     "output_type": "execute_result"
    }
   ],
   "source": [
    "sentence"
   ]
  },
  {
   "cell_type": "markdown",
   "metadata": {},
   "source": [
    "#### Abstandshistogramme"
   ]
  },
  {
   "cell_type": "markdown",
   "metadata": {},
   "source": [
    "##### Berechnung"
   ]
  },
  {
   "cell_type": "markdown",
   "metadata": {},
   "source": [
    "###### Hilfsfunktionen"
   ]
  },
  {
   "cell_type": "code",
   "execution_count": 11,
   "metadata": {},
   "outputs": [],
   "source": [
    "# relative Abstandshäufigkeiten pro Satz (Text)\n",
    "def distance_hist_rel(sentence, input_type):\n",
    "    # Levenshtein-Abstände als Matrix\n",
    "    if input_type == 'text':\n",
    "        distance_matrix = text_levenshtein_dist_matrix(sentence, False) \n",
    "    elif input_type == 'phonemes':\n",
    "        distance_matrix = phoneme_levenshtein_dist_matrix(sentence) \n",
    "    elif input_type == 'soundex':\n",
    "        distance_matrix = soundex_levenshtein_dist_matrix(sentence)\n",
    "    else:\n",
    "        print('FALSE INPUT TYPE. Parameter \"input_type\" has to be text, phonemes or soundex')\n",
    "        return False\n",
    "    distance_matrix[np.tril_indices_from(distance_matrix)] = -1 # linke untere Hälfte inkl. Diagonale auf -1 setzen\n",
    "    # Histogrammerstellung\n",
    "    flat_distances = distance_matrix.flatten()\n",
    "    hist_values, bin_edges = np.histogram(flat_distances, bins=np.arange(0, flat_distances.max() + 1.5) - 0.5, density=True)\n",
    "\n",
    "    return hist_values"
   ]
  },
  {
   "cell_type": "markdown",
   "metadata": {},
   "source": [
    "###### Berechnungen für alle drei Repräsentationsformen auf dem Zungenbrecherdatensatz und Kontrolldatensatz"
   ]
  },
  {
   "cell_type": "code",
   "execution_count": 12,
   "metadata": {},
   "outputs": [],
   "source": [
    "# Histogramme aller Zungenbrecher aufaddieren\n",
    "\n",
    "tt_sum_hist = [0] # Liste für kummulierte Histogrammwerte für Textversion\n",
    "tt_hist = [] # Liste für einzelne Histogramme für Textversion\n",
    "tt_sum_hist_phonemes = [0] # Liste für kummulierte Histogrammwerte für Phonemversion\n",
    "tt_hist_phonemes = [] # Liste für einzelne Histogramme für Phonemversion\n",
    "tt_sum_hist_soundex = [0] # Liste für kummulierte Histogrammwerte für Phonemversion\n",
    "tt_hist_soundex = [] # Liste für einzelne Histogramme für Phonemversion\n",
    "\n",
    "for i in range(tt['text'].shape[0]):\n",
    "\n",
    "    # Einzelhistogramme berechnen\n",
    "    text_hist = distance_hist_rel(tt['text'].iloc[i], 'text')\n",
    "    tt_hist.append(text_hist)\n",
    "    text_hist_phonemes = distance_hist_rel(tt['phonemes'].iloc[i], 'phonemes')\n",
    "    tt_hist_phonemes.append(text_hist_phonemes)\n",
    "    text_hist_soundex = distance_hist_rel(tt['soundex'].iloc[i], 'soundex')\n",
    "    tt_hist_soundex.append(text_hist_soundex)\n",
    "\n",
    "    # zu kummulierten Histogrammen addieren\n",
    "    # für Text\n",
    "    for j in range(text_hist.shape[0]): \n",
    "        if (j+1)>len(tt_sum_hist): # falls notwendig Gesamthistogramm erweitern\n",
    "            tt_sum_hist += [0]*(j+1-len(tt_sum_hist))\n",
    "        tt_sum_hist[j] += text_hist[j] # Aufaddieren\n",
    "    # für Phoneme\n",
    "    for j in range(text_hist_phonemes.shape[0]): \n",
    "        if (j+1)>len(tt_sum_hist_phonemes): # falls notwendig Gesamthistogramm erweitern\n",
    "            tt_sum_hist_phonemes += [0]*(j+1-len(tt_sum_hist_phonemes))\n",
    "        tt_sum_hist_phonemes[j] += text_hist_phonemes[j] # Aufaddieren\n",
    "    # für Soundex\n",
    "    for j in range(text_hist_soundex.shape[0]): \n",
    "        if (j+1)>len(tt_sum_hist_soundex): # Gesamthistogramm verlängern\n",
    "            tt_sum_hist_soundex += [0]*(j+1-len(tt_sum_hist_soundex))\n",
    "        tt_sum_hist_soundex[j] += text_hist_soundex[j] # Aufaddieren\n",
    "\n",
    "# kummulierte Histogrammwerte normalisieren\n",
    "tt_sum_hist = list(map(lambda x: x/tt.shape[0], tt_sum_hist))\n",
    "tt_sum_hist_phonemes = list(map(lambda x: x/tt.shape[0], tt_sum_hist_phonemes))\n",
    "tt_sum_hist_soundex = list(map(lambda x: x/tt.shape[0], tt_sum_hist_soundex))"
   ]
  },
  {
   "cell_type": "code",
   "execution_count": 13,
   "metadata": {},
   "outputs": [
    {
     "name": "stdout",
     "output_type": "stream",
     "text": [
      "[0.029194577279179155, 0.02547823008758445, 0.0640947341570248, 0.15373344856295404, 0.21020525289818084, 0.2009465536466151, 0.14092389708198894, 0.08638630947790624, 0.04589499107658522, 0.021267740655710764, 0.01093005208538631, 0.00506809575852363, 0.0016412055022615604, 0.0008057090620862403, 0.0004032812210293691, 0.00013293679432610636, 0.00044261961527519825, 9.848417299403734e-05, 3.537000082508933e-05, 1.8949806894985423e-05, 4.3156391030183356e-05, 0.0, 0.0, 0.0, 2.042033211628154e-07, 0.0, 0.0, 0.0, 5.309286350233201e-06, 4.90087970790757e-06, 1.8378298904653387e-06]\n"
     ]
    }
   ],
   "source": [
    "print(tt_sum_hist)"
   ]
  },
  {
   "cell_type": "code",
   "execution_count": 24,
   "metadata": {},
   "outputs": [
    {
     "name": "stdout",
     "output_type": "stream",
     "text": [
      "[0.00027643957927752223, 0.000595594857866091, 0.0031866212884405242, 0.006926800096731508, 0.008621413445281077, 0.008233677814393003, 0.00727913609016654, 0.00592660190353634, 0.003734402619549819, 0.0021996037630828405, 0.0012659618379727055, 0.0006836442680085665, 0.0003006123932807262, 0.00011296752748830442, 4.727114011704969e-05, 1.3972698759500333e-05, 7.769777212820445e-06, 5.023896006359435e-06, 1.5946048704720554e-05, 1.2738284599653698e-06]\n"
     ]
    }
   ],
   "source": [
    "# Histogramme aller Sätze aufaddieren. Analog zum Zungenbrecherdatensatz\n",
    "\n",
    "menge = 5000\n",
    "\n",
    "sentence_sum_hist = [0]\n",
    "sentence_hist = []\n",
    "sentence_sum_hist_phonemes = [0]\n",
    "sentence_hist_phonemes = []\n",
    "sentence_sum_hist_soundex = [0]\n",
    "sentence_hist_soundex = []\n",
    "for i in range(sentence['sentence'][:menge].shape[0]):\n",
    "    # print(i)\n",
    "    # Einzelhistogramme berechnen\n",
    "    text_hist = distance_hist_rel(sentence['sentence'].iloc[i], 'text')\n",
    "    sentence_hist.append(text_hist)\n",
    "    # print(' -- single text histogram done')\n",
    "    text_hist_phonemes = distance_hist_rel(sentence['phonemes'].iloc[i], 'phonemes')\n",
    "    sentence_hist_phonemes.append(text_hist_phonemes)\n",
    "    # print(' -- single phoneme histogram done')\n",
    "    text_hist_soundex = distance_hist_rel(sentence['soundex'].iloc[i], 'soundex')\n",
    "    sentence_hist_soundex.append(text_hist_soundex)\n",
    "    # print(' -- single soundex histogram done')\n",
    "    # zu kummulierten Histogrammen addieren\n",
    "    # für Text\n",
    "    for j in range(text_hist.shape[0]):\n",
    "        if (j+1)>len(sentence_sum_hist): # Gesamthistogramm verlängern\n",
    "            sentence_sum_hist += [0]*(j+1-len(sentence_sum_hist))\n",
    "        sentence_sum_hist[j] += text_hist[j] # Aufaddieren\n",
    "    # print(' -- cummulated text histogram added')\n",
    "    # für Phoneme\n",
    "    for j in range(text_hist_phonemes.shape[0]):\n",
    "        if (j+1)>len(sentence_sum_hist_phonemes): # Gesamthistogramm verlängern\n",
    "            sentence_sum_hist_phonemes += [0]*(j+1-len(sentence_sum_hist_phonemes))\n",
    "        sentence_sum_hist_phonemes[j] += text_hist_phonemes[j] # Aufaddieren\n",
    "    # print(' -- cummulated phoneme histogram added')\n",
    "    # für Text\n",
    "    for j in range(text_hist_soundex.shape[0]):\n",
    "        if (j+1)>len(sentence_sum_hist_soundex): # Gesamthistogramm verlängern\n",
    "            sentence_sum_hist_soundex += [0]*(j+1-len(sentence_sum_hist_soundex))\n",
    "        sentence_sum_hist_soundex[j] += text_hist_soundex[j] # Aufaddieren\n",
    "    # print(' -- cummulated soundex histogram added')\n",
    "\n",
    "# kummulierte Histogrammwerte normalisieren\n",
    "sentence_sum_hist = list(map(lambda x: x/sentence.shape[0], sentence_sum_hist))\n",
    "sentence_sum_hist_phonemes = list(map(lambda x: x/menge, sentence_sum_hist_phonemes))\n",
    "sentence_sum_hist_soundex = list(map(lambda x: x/menge, sentence_sum_hist_soundex))\n",
    "\n",
    "print(sentence_sum_hist)"
   ]
  },
  {
   "cell_type": "markdown",
   "metadata": {},
   "source": [
    "##### Durchschnitt über gesamte Datensätze"
   ]
  },
  {
   "cell_type": "code",
   "execution_count": 25,
   "metadata": {},
   "outputs": [],
   "source": [
    "# Grafeken für welche Repräsentation? text [0], phoneme [1], soundex [2]\n",
    "r = 0\n",
    "\n",
    "t_sum_list = [tt_sum_hist, tt_sum_hist_phonemes, tt_sum_hist_soundex]\n",
    "s_sum_list = [sentence_sum_hist, sentence_sum_hist_phonemes, sentence_sum_hist_soundex]\n",
    "t_list = [tt_hist, tt_hist_phonemes, tt_hist_soundex]\n",
    "s_list = [sentence_hist, sentence_hist_phonemes, sentence_hist_soundex]"
   ]
  },
  {
   "cell_type": "code",
   "execution_count": 26,
   "metadata": {},
   "outputs": [
    {
     "data": {
      "image/png": "[encoded data removed]",
      "text/plain": [
       "<Figure size 720x288 with 2 Axes>"
      ]
     },
     "metadata": {
      "needs_background": "light"
     },
     "output_type": "display_data"
    }
   ],
   "source": [
    "tt_bin_edges = np.arange(0, len(t_sum_list[r])+1)\n",
    "tt_hist_values = np.array(t_sum_list[r])\n",
    "\n",
    "sentence_bin_edges = np.arange(0, len(s_sum_list[r])+1)\n",
    "sentence_hist_values = np.array(s_sum_list[r])\n",
    "\n",
    "# Subploterstellung (1 Zeile, 2Spalten)\n",
    "fig, axs = plt.subplots(1, 2, figsize=(10, 4))\n",
    "\n",
    "# Histogramm für Zungenbrecher\n",
    "axs[0].bar(tt_bin_edges[:-1], tt_hist_values, width=np.diff(tt_bin_edges), edgecolor='black')\n",
    "axs[0].set_title('Distance probability between words in tongue twister data set')\n",
    "axs[0].set_xlabel('Levenshtein distance between words')\n",
    "axs[0].set_ylabel('Frequency')\n",
    "\n",
    "# Histogramm für Kontrolldatensatz\n",
    "axs[1].bar(sentence_bin_edges[:-1], sentence_hist_values, width=np.diff(sentence_bin_edges), edgecolor='black')\n",
    "axs[1].set_title('Distance probability between words in control data set')\n",
    "axs[1].set_xlabel('Levenshtein distance between words')\n",
    "axs[1].set_ylabel('Frequency')\n",
    "\n",
    "# Adjust layout for better spacing\n",
    "plt.tight_layout()\n",
    "\n",
    "# Show the plot\n",
    "plt.show()"
   ]
  },
  {
   "cell_type": "code",
   "execution_count": 27,
   "metadata": {},
   "outputs": [
    {
     "name": "stdout",
     "output_type": "stream",
     "text": [
      "43\n",
      "31\n",
      "20\n",
      "[0.028918137699901633, 0.02488263522971836, 0.060908112868584274, 0.15373344856295404, 0.21020525289818084, 0.2009465536466151, 0.14092389708198894, 0.08638630947790624, 0.04589499107658522, 0.021267740655710764, 0.01093005208538631, 0.00506809575852363, 0.0016412055022615604, 0.0008057090620862403, 0.0004032812210293691, 0.00013293679432610636, 0.00044261961527519825, 9.848417299403734e-05, 3.537000082508933e-05, 1.8949806894985423e-05, 4.3156391030183356e-05, 0.0, 0.0, 0.0, 2.042033211628154e-07, 0.0, 0.0, 0.0, 5.309286350233201e-06, 4.90087970790757e-06, 1.8378298904653387e-06, 0, 0, 0, 0, 0, 0, 0, 0, 0, 0, 0, 0]\n"
     ]
    }
   ],
   "source": [
    "diff_sum_hist = t_sum_list[r].copy()\n",
    "if len(t_sum_list[r])>len(s_sum_list[r]): diff_sum_hist += [0]*(1+len(t_sum_list[r])-len(s_sum_list[r]))\n",
    "print(len(diff_sum_hist))\n",
    "print(len(t_sum_list[r]))\n",
    "print(len(s_sum_list[r]))\n",
    "for i in range(len(s_sum_list)):\n",
    "    diff_sum_hist[i] -= s_sum_list[r][i]\n",
    "print(diff_sum_hist)"
   ]
  },
  {
   "cell_type": "code",
   "execution_count": 28,
   "metadata": {},
   "outputs": [
    {
     "data": {
      "image/png": "[encoded data removed]",
      "text/plain": [
       "<Figure size 432x288 with 1 Axes>"
      ]
     },
     "metadata": {
      "needs_background": "light"
     },
     "output_type": "display_data"
    }
   ],
   "source": [
    "diff_bin_edges = np.arange(0, len(diff_sum_hist)+1)\n",
    "diff_hist_values = np.array(diff_sum_hist)\n",
    "\n",
    "\n",
    "plt.bar(diff_bin_edges[:-1], diff_hist_values, width=np.diff(diff_bin_edges), edgecolor='black')\n",
    "plt.title('Difference in Distance probability between words in tongue twister vs. in control data set')\n",
    "plt.xlabel('Levenshtein distance between words')\n",
    "plt.ylabel('Frequency/Probability')\n",
    "plt.grid(axis='y', alpha=0.75)\n",
    "plt.show()"
   ]
  },
  {
   "cell_type": "markdown",
   "metadata": {},
   "source": [
    "- Werte bei 0 und 1 bei Seite: sieht aus, wie zwei Normalverteilungen voneinander abgezoge (ist es ja auch)\n",
    "- also: gesamte Distance-Verteilung bei Zungenbrechern nach links verschoben -> insgesamt ähnlichere Wörter\n",
    "- Werte bei 0 und 1: überproportional viele sehr ähnliche und gleiche Wörter in Zungenbrechern\n",
    "\n",
    "-> bringt das eine Unterscheidbarkeit? Clustering/logistische Regression?"
   ]
  },
  {
   "cell_type": "markdown",
   "metadata": {},
   "source": [
    "##### gleiche/sehr ähnliche Wörter"
   ]
  },
  {
   "cell_type": "code",
   "execution_count": 19,
   "metadata": {},
   "outputs": [],
   "source": [
    "tt_0 = []\n",
    "tt_1 = []\n",
    "for t in t_list[r]:\n",
    "    if len(t)>1:\n",
    "        tt_0.append(t[0])\n",
    "        tt_1.append(t[1])\n",
    "s_0 = []\n",
    "s_1 = []\n",
    "for t in s_list[r]:\n",
    "    if len(t)>1:\n",
    "        s_0.append(t[0])\n",
    "        s_1.append(t[1])"
   ]
  },
  {
   "cell_type": "markdown",
   "metadata": {},
   "source": [
    "###### plot"
   ]
  },
  {
   "cell_type": "code",
   "execution_count": 20,
   "metadata": {},
   "outputs": [
    {
     "data": {
      "image/png": "[encoded data removed]",
      "text/plain": [
       "<Figure size 432x288 with 1 Axes>"
      ]
     },
     "metadata": {
      "needs_background": "light"
     },
     "output_type": "display_data"
    }
   ],
   "source": [
    "\n",
    "\n",
    "# Create a scatter plot with two datasets\n",
    "plt.scatter(tt_0, tt_1, marker='o', color='blue', label='Zungenbrecher', edgecolors='black', alpha=0.1)\n",
    "plt.scatter(s_0, s_1, marker='s', color='red', label='normale Sätze', edgecolors='black', alpha=0.1)\n",
    "\n",
    "# Set plot labels and title\n",
    "plt.xlabel('Levenshtein-Abstand 0')\n",
    "plt.ylabel('Levenshtein-Abstand 1')\n",
    "plt.title('Scatter Plot with Two Datasets')\n",
    "\n",
    "# Show a legend\n",
    "plt.legend()\n",
    "\n",
    "# Show the plot\n",
    "plt.show()"
   ]
  },
  {
   "cell_type": "code",
   "execution_count": 21,
   "metadata": {},
   "outputs": [
    {
     "data": {
      "image/png": "[encoded data removed]",
      "text/plain": [
       "<Figure size 720x288 with 2 Axes>"
      ]
     },
     "metadata": {
      "needs_background": "light"
     },
     "output_type": "display_data"
    }
   ],
   "source": [
    "# Create subplots with 1 row and 2 columns\n",
    "fig, axs = plt.subplots(1, 2, figsize=(10, 4))  # Adjust the figsize as needed\n",
    "\n",
    "# Scatter plot for Dataset 1\n",
    "axs[0].scatter(tt_0, tt_1, marker='o', color='blue', label='Zungenbrecher', edgecolors='black', alpha=0.1)\n",
    "axs[0].set_title('Scatter Plot - Dataset 1')\n",
    "axs[0].set_xlabel('X-axis')\n",
    "axs[0].set_ylabel('Y-axis')\n",
    "axs[0].legend()\n",
    "\n",
    "# Scatter plot for Dataset 2\n",
    "axs[1].scatter(s_0, s_1, marker='s', color='red', label='normale Sätze', edgecolors='black', alpha=0.1)\n",
    "axs[1].set_title('Scatter Plot - Dataset 2')\n",
    "axs[1].set_xlabel('X-axis')\n",
    "axs[1].set_ylabel('Y-axis')\n",
    "axs[1].legend()\n",
    "\n",
    "# Adjust layout for better spacing\n",
    "plt.tight_layout()\n",
    "\n",
    "# Show the plot\n",
    "plt.show()"
   ]
  },
  {
   "cell_type": "markdown",
   "metadata": {},
   "source": [
    "###### histogramme"
   ]
  },
  {
   "cell_type": "code",
   "execution_count": 22,
   "metadata": {},
   "outputs": [
    {
     "data": {
      "image/png": "[encoded data removed]",
      "text/plain": [
       "<Figure size 432x288 with 1 Axes>"
      ]
     },
     "metadata": {
      "needs_background": "light"
     },
     "output_type": "display_data"
    }
   ],
   "source": [
    "# Create a histogram\n",
    "plt.hist(s_0, bins=20, edgecolor='black', alpha=0.7)\n",
    "\n",
    "# Customize plot labels and title\n",
    "plt.title('Histogram Example')\n",
    "plt.xlabel('Values')\n",
    "plt.ylabel('Frequency')\n",
    "\n",
    "# Show the plot\n",
    "plt.show()"
   ]
  },
  {
   "cell_type": "markdown",
   "metadata": {},
   "source": [
    "- zu nahe aufeinander, reicht nicht für ein Modell.\n",
    "- weitere Möglichkeiten: mehr als nur Abstand = 0/=1 betrachten\n",
    " --> Varianz, Durchschnitt, "
   ]
  },
  {
   "cell_type": "markdown",
   "metadata": {},
   "source": [
    "# Notizen\n"
   ]
  },
  {
   "cell_type": "code",
   "execution_count": 23,
   "metadata": {},
   "outputs": [],
   "source": [
    "# Fälle: erstes/letztes Phonem\n",
    "\n",
    "# was sind die beiden häufigsten Ph's am Wortanfang? -> A-Wörter, B-Wörter\n",
    "\n",
    "\n"
   ]
  }
 ],
 "metadata": {
  "kernelspec": {
   "display_name": "DHBW_DS",
   "language": "python",
   "name": "python3"
  },
  "language_info": {
   "codemirror_mode": {
    "name": "ipython",
    "version": 3
   },
   "file_extension": ".py",
   "mimetype": "text/x-python",
   "name": "python",
   "nbconvert_exporter": "python",
   "pygments_lexer": "ipython3",
   "version": "3.8.13"
  }
 },
 "nbformat": 4,
 "nbformat_minor": 2
}
