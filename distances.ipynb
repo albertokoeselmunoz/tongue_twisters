{
 "cells": [
  {
   "cell_type": "code",
   "execution_count": 29,
   "metadata": {},
   "outputs": [],
   "source": [
    "import pandas as pd\n",
    "from nltk.metrics import edit_distance, binary_distance\n",
    "from pyphonetics import Soundex\n",
    "import string\n",
    "import numpy as np\n",
    "import ast"
   ]
  },
  {
   "cell_type": "code",
   "execution_count": 2,
   "metadata": {},
   "outputs": [
    {
     "data": {
      "text/html": [
       "<div>\n",
       "<style scoped>\n",
       "    .dataframe tbody tr th:only-of-type {\n",
       "        vertical-align: middle;\n",
       "    }\n",
       "\n",
       "    .dataframe tbody tr th {\n",
       "        vertical-align: top;\n",
       "    }\n",
       "\n",
       "    .dataframe thead th {\n",
       "        text-align: right;\n",
       "    }\n",
       "</style>\n",
       "<table border=\"1\" class=\"dataframe\">\n",
       "  <thead>\n",
       "    <tr style=\"text-align: right;\">\n",
       "      <th></th>\n",
       "      <th>text</th>\n",
       "      <th>phonemes</th>\n",
       "      <th>soundex</th>\n",
       "    </tr>\n",
       "  </thead>\n",
       "  <tbody>\n",
       "    <tr>\n",
       "      <th>0</th>\n",
       "      <td>Peter Piper picked a peck of pickled peppers. ...</td>\n",
       "      <td>[['P', 'IY1', 'T', 'ER0'], ['P', 'AY1', 'P', '...</td>\n",
       "      <td>['P360', 'P160', 'P230', 'A000', 'P200', 'O100...</td>\n",
       "    </tr>\n",
       "    <tr>\n",
       "      <th>1</th>\n",
       "      <td>I saw Susie sitting in a shoe shine shop. Wher...</td>\n",
       "      <td>[['AY1'], ['S', 'AO1'], ['S', 'UW1', 'Z', 'IY0...</td>\n",
       "      <td>['I000', 'S000', 'S200', 'S352', 'I500', 'A000...</td>\n",
       "    </tr>\n",
       "    <tr>\n",
       "      <th>2</th>\n",
       "      <td>How many boards Could the Mongols hoard If the...</td>\n",
       "      <td>[['HH', 'AW1'], ['M', 'EH1', 'N', 'IY0'], ['B'...</td>\n",
       "      <td>['H000', 'M500', 'B632', 'C430', 'T000', 'M524...</td>\n",
       "    </tr>\n",
       "    <tr>\n",
       "      <th>3</th>\n",
       "      <td>How can a clam cram in a clean cream can?</td>\n",
       "      <td>[['HH', 'AW1'], ['K', 'AE1', 'N'], ['AH0'], ['...</td>\n",
       "      <td>['H000', 'C500', 'A000', 'C450', 'C650', 'I500...</td>\n",
       "    </tr>\n",
       "    <tr>\n",
       "      <th>4</th>\n",
       "      <td>Send toast to ten tense stout saints' ten tall...</td>\n",
       "      <td>[['S', 'EH1', 'N', 'D'], ['T', 'OW1', 'S', 'T'...</td>\n",
       "      <td>['S530', 'T230', 'T000', 'T500', 'T520', 'S330...</td>\n",
       "    </tr>\n",
       "    <tr>\n",
       "      <th>...</th>\n",
       "      <td>...</td>\n",
       "      <td>...</td>\n",
       "      <td>...</td>\n",
       "    </tr>\n",
       "    <tr>\n",
       "      <th>2671</th>\n",
       "      <td>Then step up mister and twist your tongue</td>\n",
       "      <td>[['DH', 'EH1', 'N'], ['S', 'T', 'EH1', 'P'], [...</td>\n",
       "      <td>['T500', 'S310', 'U100', 'M236', 'A530', 'T230...</td>\n",
       "    </tr>\n",
       "    <tr>\n",
       "      <th>2672</th>\n",
       "      <td>Now Kissle will whistle at busty Miss. Russell...</td>\n",
       "      <td>[['N', 'AW1'], ['K', 'IH1', 'S', 'AH0', 'L'], ...</td>\n",
       "      <td>['N000', 'K240', 'W400', 'W234', 'A300', 'B230...</td>\n",
       "    </tr>\n",
       "    <tr>\n",
       "      <th>2673</th>\n",
       "      <td>Purple paper people, purple paper people, purp...</td>\n",
       "      <td>[['P', 'ER1', 'P', 'AH0', 'L'], ['P', 'EY1', '...</td>\n",
       "      <td>['P614', 'P160', 'P140', 'P614', 'P160', 'P140...</td>\n",
       "    </tr>\n",
       "    <tr>\n",
       "      <th>2674</th>\n",
       "      <td>De doorgaans dappere Durgerdammer drukker Dirk...</td>\n",
       "      <td>[['D', 'IY1'], ['D', 'AO1', 'R', 'G', 'AH0', '...</td>\n",
       "      <td>['D000', 'D625', 'D160', 'D626', 'D626', 'D620...</td>\n",
       "    </tr>\n",
       "    <tr>\n",
       "      <th>2675</th>\n",
       "      <td>Nope, an antelope can't elope with a cantelope.</td>\n",
       "      <td>[['N', 'OW1', 'P'], ['AE1', 'N'], ['AE1', 'N',...</td>\n",
       "      <td>['N100', 'A500', 'A534', 'C530', 'E410', 'W300...</td>\n",
       "    </tr>\n",
       "  </tbody>\n",
       "</table>\n",
       "<p>2676 rows × 3 columns</p>\n",
       "</div>"
      ],
      "text/plain": [
       "                                                   text  \\\n",
       "0     Peter Piper picked a peck of pickled peppers. ...   \n",
       "1     I saw Susie sitting in a shoe shine shop. Wher...   \n",
       "2     How many boards Could the Mongols hoard If the...   \n",
       "3             How can a clam cram in a clean cream can?   \n",
       "4     Send toast to ten tense stout saints' ten tall...   \n",
       "...                                                 ...   \n",
       "2671          Then step up mister and twist your tongue   \n",
       "2672  Now Kissle will whistle at busty Miss. Russell...   \n",
       "2673  Purple paper people, purple paper people, purp...   \n",
       "2674  De doorgaans dappere Durgerdammer drukker Dirk...   \n",
       "2675    Nope, an antelope can't elope with a cantelope.   \n",
       "\n",
       "                                               phonemes  \\\n",
       "0     [['P', 'IY1', 'T', 'ER0'], ['P', 'AY1', 'P', '...   \n",
       "1     [['AY1'], ['S', 'AO1'], ['S', 'UW1', 'Z', 'IY0...   \n",
       "2     [['HH', 'AW1'], ['M', 'EH1', 'N', 'IY0'], ['B'...   \n",
       "3     [['HH', 'AW1'], ['K', 'AE1', 'N'], ['AH0'], ['...   \n",
       "4     [['S', 'EH1', 'N', 'D'], ['T', 'OW1', 'S', 'T'...   \n",
       "...                                                 ...   \n",
       "2671  [['DH', 'EH1', 'N'], ['S', 'T', 'EH1', 'P'], [...   \n",
       "2672  [['N', 'AW1'], ['K', 'IH1', 'S', 'AH0', 'L'], ...   \n",
       "2673  [['P', 'ER1', 'P', 'AH0', 'L'], ['P', 'EY1', '...   \n",
       "2674  [['D', 'IY1'], ['D', 'AO1', 'R', 'G', 'AH0', '...   \n",
       "2675  [['N', 'OW1', 'P'], ['AE1', 'N'], ['AE1', 'N',...   \n",
       "\n",
       "                                                soundex  \n",
       "0     ['P360', 'P160', 'P230', 'A000', 'P200', 'O100...  \n",
       "1     ['I000', 'S000', 'S200', 'S352', 'I500', 'A000...  \n",
       "2     ['H000', 'M500', 'B632', 'C430', 'T000', 'M524...  \n",
       "3     ['H000', 'C500', 'A000', 'C450', 'C650', 'I500...  \n",
       "4     ['S530', 'T230', 'T000', 'T500', 'T520', 'S330...  \n",
       "...                                                 ...  \n",
       "2671  ['T500', 'S310', 'U100', 'M236', 'A530', 'T230...  \n",
       "2672  ['N000', 'K240', 'W400', 'W234', 'A300', 'B230...  \n",
       "2673  ['P614', 'P160', 'P140', 'P614', 'P160', 'P140...  \n",
       "2674  ['D000', 'D625', 'D160', 'D626', 'D626', 'D620...  \n",
       "2675  ['N100', 'A500', 'A534', 'C530', 'E410', 'W300...  \n",
       "\n",
       "[2676 rows x 3 columns]"
      ]
     },
     "execution_count": 2,
     "metadata": {},
     "output_type": "execute_result"
    }
   ],
   "source": [
    "df = pd.read_csv('tt_dataset.csv')\n",
    "df"
   ]
  },
  {
   "cell_type": "markdown",
   "metadata": {},
   "source": [
    "## implement metrics"
   ]
  },
  {
   "cell_type": "markdown",
   "metadata": {},
   "source": [
    "### for text"
   ]
  },
  {
   "cell_type": "code",
   "execution_count": 3,
   "metadata": {},
   "outputs": [],
   "source": [
    "### necessary functions\n",
    "\n",
    "# remove all punctuation from a string\n",
    "def remove_punctuation(input_string):\n",
    "    punctuation_chars = string.punctuation # Create a string containing all punctuation marks\n",
    "    no_punct = ''.join(char for char in input_string if char not in punctuation_chars) # Create new string without punctuation\n",
    "    \n",
    "    return no_punct\n",
    "\n"
   ]
  },
  {
   "cell_type": "code",
   "execution_count": 4,
   "metadata": {},
   "outputs": [],
   "source": [
    "# calculates levenshtein dist between every two words in a string\n",
    "# args: input string, boolean of allowing transpositions\n",
    "def levenshtein_dist(tongue_twister, transp):\n",
    "    words = remove_punctuation(tongue_twister).split(' ') # split tt into indiv words\n",
    "    levenshtein_arr = np.zeros((len(words), len(words))) # initialise distance array\n",
    "    for i in range(len(words)):\n",
    "        for j in range(i+1, len(words)):\n",
    "            dist = edit_distance(words[i], words[j], substitution_cost=1, transpositions=transp) # Transposition True because of difficukty to distinguish both words\n",
    "            levenshtein_arr[i, j] = dist\n",
    "            levenshtein_arr[j, i] = dist\n",
    "            \n",
    "    return levenshtein_arr\n",
    "\n",
    "\n",
    "# calculates binary dist between every two words in a string\n",
    "# args: input string\n",
    "def binary_dist(tongue_twister):\n",
    "    words = remove_punctuation(tongue_twister).split(' ') # split tt into indiv words\n",
    "    binary_dist_arr = np.zeros((len(words), len(words))) # initialise distance array\n",
    "    for i in range(len(words)):\n",
    "        for j in range(i, len(words)):\n",
    "            dist = binary_distance(words[i], words[j]) \n",
    "            binary_dist_arr[i, j] = dist\n",
    "            binary_dist_arr[j, i] = dist\n",
    "            \n",
    "    return binary_dist_arr"
   ]
  },
  {
   "cell_type": "code",
   "execution_count": 5,
   "metadata": {},
   "outputs": [
    {
     "name": "stdout",
     "output_type": "stream",
     "text": [
      "[[0. 2. 5. ... 0. 2. 5.]\n",
      " [2. 0. 4. ... 2. 0. 4.]\n",
      " [5. 4. 0. ... 5. 4. 0.]\n",
      " ...\n",
      " [0. 2. 5. ... 0. 2. 5.]\n",
      " [2. 0. 4. ... 2. 0. 4.]\n",
      " [5. 4. 0. ... 5. 4. 0.]]\n"
     ]
    }
   ],
   "source": [
    "print(levenshtein_dist(df['text'][0], True))"
   ]
  },
  {
   "cell_type": "code",
   "execution_count": 6,
   "metadata": {},
   "outputs": [
    {
     "name": "stdout",
     "output_type": "stream",
     "text": [
      "Peter Piper picked a peck of pickled peppers. A peck of pickled peppers Peter Piper picked. If Peter Piper picked a peck of pickled peppers, Where's the peck of pickled peppers Peter Piper picked?\n",
      "[[0. 1. 1. ... 0. 1. 1.]\n",
      " [1. 0. 1. ... 1. 0. 1.]\n",
      " [1. 1. 0. ... 1. 1. 0.]\n",
      " ...\n",
      " [0. 1. 1. ... 0. 1. 1.]\n",
      " [1. 0. 1. ... 1. 0. 1.]\n",
      " [1. 1. 0. ... 1. 1. 0.]]\n"
     ]
    }
   ],
   "source": [
    "print(df['text'][0])\n",
    "print(binary_dist(df['text'][0]))"
   ]
  },
  {
   "cell_type": "markdown",
   "metadata": {},
   "source": [
    "### for phonemes"
   ]
  },
  {
   "cell_type": "code",
   "execution_count": 44,
   "metadata": {},
   "outputs": [],
   "source": [
    "# Nimmt zwei Listen mit Phonemen (, die je ein Wort darstellen) und gibt den Levenshtein-Abstand zwischen den Phonemlisten zurück\n",
    "def phoneme_levenshtein_dist(ph_list1, ph_list2):\n",
    "    len_str1 = len(ph_list1) + 1\n",
    "    len_str2 = len(ph_list2) + 1\n",
    "    matrix = [[0] * len_str2 for _ in range(len_str1)] # Erstellung der Matrix, in der die Abstände gespeichert werden\n",
    "    # Erste Zeile und Spalte füllen\n",
    "    for i in range(len_str1):\n",
    "        matrix[i][0] = i\n",
    "    for j in range(len_str2):\n",
    "        matrix[0][j] = j\n",
    "    # Restliche Matrix füllen\n",
    "    for i in range(1, len_str1):\n",
    "        for j in range(1, len_str2):\n",
    "            cost = 0 if ph_list1[i - 1] == ph_list2[j - 1] else 1\n",
    "            matrix[i][j] = min(\n",
    "                matrix[i - 1][j] + 1,      # Löschen\n",
    "                matrix[i][j - 1] + 1,      # Einfügen\n",
    "                matrix[i - 1][j - 1] + cost  # Ersetzen\n",
    "            )\n",
    "\n",
    "    # The final value in the matrix represents the Levenshtein distance\n",
    "    return matrix[-1][-1]"
   ]
  },
  {
   "cell_type": "code",
   "execution_count": 50,
   "metadata": {},
   "outputs": [
    {
     "name": "stdout",
     "output_type": "stream",
     "text": [
      "[['P', 'IY1', 'T', 'ER0'], ['P', 'AY1', 'P', 'ER0'], ['P', 'IH1', 'K', 'T'], ['AH0'], ['P', 'EH1', 'K'], ['AH1', 'V'], ['P', 'IH1', 'K', 'AH0', 'L', 'D'], ['P', 'EH1', 'P', 'ER0', 'Z'], ['AH0'], ['P', 'EH1', 'K'], ['AH1', 'V'], ['P', 'IH1', 'K', 'AH0', 'L', 'D'], ['P', 'EH1', 'P', 'ER0', 'Z'], ['P', 'IY1', 'T', 'ER0'], ['P', 'AY1', 'P', 'ER0'], ['P', 'IH1', 'K', 'T'], ['IH1', 'F'], ['P', 'IY1', 'T', 'ER0'], ['P', 'AY1', 'P', 'ER0'], ['P', 'IH1', 'K', 'T'], ['AH0'], ['P', 'EH1', 'K'], ['AH1', 'V'], ['P', 'IH1', 'K', 'AH0', 'L', 'D'], ['P', 'EH1', 'P', 'ER0', 'Z'], ['W', 'EH1', 'R', 'Z'], ['DH', 'AH0'], ['P', 'EH1', 'K'], ['AH1', 'V'], ['P', 'IH1', 'K', 'AH0', 'L', 'D'], ['P', 'EH1', 'P', 'ER0', 'Z'], ['P', 'IY1', 'T', 'ER0'], ['P', 'AY1', 'P', 'ER0'], ['P', 'IH1', 'K', 'T']]\n",
      "3\n"
     ]
    }
   ],
   "source": [
    "ph_list = ast.literal_eval(df['phonemes'][0])\n",
    "print(ph_list)\n",
    "\n",
    "print(phoneme_levenshtein_dist(ph_list[0], ph_list[2]))"
   ]
  },
  {
   "cell_type": "markdown",
   "metadata": {},
   "source": [
    "### for soundex"
   ]
  },
  {
   "cell_type": "code",
   "execution_count": 40,
   "metadata": {},
   "outputs": [
    {
     "name": "stdout",
     "output_type": "stream",
     "text": [
      "A000\n",
      "3\n"
     ]
    }
   ],
   "source": [
    "soundex = Soundex()\n",
    "\n",
    "sd = ast.literal_eval(df['soundex'][0])\n",
    "sd2 = list(df['soundex'][0])\n",
    "print(sd[3])\n",
    "print(soundex.distance('test', 'rear', metric='levenshtein'))\n",
    "\n",
    "\n",
    "# calculates levenshtein dist between every two words in a string\n",
    "# args: input string, boolean of allowing transpositions\n",
    "def soundex_levenshtein_dist(soundex_list):\n",
    "    # words = remove_punctuation(tongue_twister).split(' ') # split tt into indiv words\n",
    "    levenshtein_arr = np.zeros((len(soundex_list), len(soundex_list))) # initialise distance array\n",
    "    for i in range(len(soundex_list)):\n",
    "        for j in range(i+1, len(soundex_list)):\n",
    "            dist = edit_distance(soundex_list[i], soundex_list[j], substitution_cost=1, transpositions=False) # Transposition True because of difficukty to distinguish both words\n",
    "            levenshtein_arr[i, j] = dist\n",
    "            levenshtein_arr[j, i] = dist\n",
    "            \n",
    "    return levenshtein_arr"
   ]
  },
  {
   "cell_type": "code",
   "execution_count": 52,
   "metadata": {},
   "outputs": [
    {
     "name": "stdout",
     "output_type": "stream",
     "text": [
      "['P360', 'P160', 'P230', 'A000', 'P200', 'O100', 'P243', 'P162', 'A000', 'P200', 'O100', 'P243', 'P162', 'P360', 'P160', 'P230', 'I100', 'P360', 'P160', 'P230', 'A000', 'P200', 'O100', 'P243', 'P162', 'W620', 'T000', 'P200', 'O100', 'P243', 'P162', 'P360', 'P160', 'P230']\n",
      "[[0. 1. 1. ... 1. 1. 1.]\n",
      " [1. 0. 1. ... 1. 0. 1.]\n",
      " [1. 1. 0. ... 1. 1. 1.]\n",
      " ...\n",
      " [1. 1. 1. ... 0. 1. 1.]\n",
      " [1. 0. 1. ... 1. 0. 1.]\n",
      " [1. 1. 1. ... 1. 1. 0.]]\n"
     ]
    }
   ],
   "source": [
    "s1 = df['soundex'][0]\n",
    "print(s1)\n",
    "print(soundex_levenshtein_dist(s1))"
   ]
  }
 ],
 "metadata": {
  "kernelspec": {
   "display_name": "DHBW_DS",
   "language": "python",
   "name": "python3"
  },
  "language_info": {
   "codemirror_mode": {
    "name": "ipython",
    "version": 3
   },
   "file_extension": ".py",
   "mimetype": "text/x-python",
   "name": "python",
   "nbconvert_exporter": "python",
   "pygments_lexer": "ipython3",
   "version": "3.8.13"
  }
 },
 "nbformat": 4,
 "nbformat_minor": 2
}
