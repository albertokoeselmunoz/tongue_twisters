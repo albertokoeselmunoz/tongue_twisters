{
 "cells": [
  {
   "cell_type": "code",
   "execution_count": 29,
   "metadata": {},
   "outputs": [],
   "source": [
    "import pandas as pd\n",
    "from nltk.metrics import edit_distance\n",
    "import string\n",
    "import numpy as np"
   ]
  },
  {
   "cell_type": "code",
   "execution_count": 7,
   "metadata": {},
   "outputs": [
    {
     "data": {
      "text/html": [
       "<div>\n",
       "<style scoped>\n",
       "    .dataframe tbody tr th:only-of-type {\n",
       "        vertical-align: middle;\n",
       "    }\n",
       "\n",
       "    .dataframe tbody tr th {\n",
       "        vertical-align: top;\n",
       "    }\n",
       "\n",
       "    .dataframe thead th {\n",
       "        text-align: right;\n",
       "    }\n",
       "</style>\n",
       "<table border=\"1\" class=\"dataframe\">\n",
       "  <thead>\n",
       "    <tr style=\"text-align: right;\">\n",
       "      <th></th>\n",
       "      <th>text</th>\n",
       "      <th>phonemes</th>\n",
       "      <th>soundex</th>\n",
       "    </tr>\n",
       "  </thead>\n",
       "  <tbody>\n",
       "    <tr>\n",
       "      <th>0</th>\n",
       "      <td>Peter Piper picked a peck of pickled peppers. ...</td>\n",
       "      <td>[P IY1 T ER0] [P AY1 P ER0] [P IH1 K T] [AH0] ...</td>\n",
       "      <td>['P360', 'P160', 'P230', 'A000', 'P200', 'O100...</td>\n",
       "    </tr>\n",
       "    <tr>\n",
       "      <th>1</th>\n",
       "      <td>I saw Susie sitting in a shoe shine shop. Wher...</td>\n",
       "      <td>[AY1] [S AO1] [S UW1 Z IY0] [S IH1 T IH0 NG] [...</td>\n",
       "      <td>['I000', 'S000', 'S200', 'S352', 'I500', 'A000...</td>\n",
       "    </tr>\n",
       "    <tr>\n",
       "      <th>2</th>\n",
       "      <td>How many boards Could the Mongols hoard If the...</td>\n",
       "      <td>[HH AW1] [M EH1 N IY0] [B AO1 R D Z] [K UH1 D]...</td>\n",
       "      <td>['H000', 'M500', 'B632', 'C430', 'T000', 'M524...</td>\n",
       "    </tr>\n",
       "    <tr>\n",
       "      <th>3</th>\n",
       "      <td>How can a clam cram in a clean cream can?</td>\n",
       "      <td>[HH AW1] [K AE1 N] [AH0] [K L AE1 M] [K R AE1 ...</td>\n",
       "      <td>['H000', 'C500', 'A000', 'C450', 'C650', 'I500...</td>\n",
       "    </tr>\n",
       "    <tr>\n",
       "      <th>4</th>\n",
       "      <td>Send toast to ten tense stout saints' ten tall...</td>\n",
       "      <td>[S EH1 N D] [T OW1 S T] [T UW1] [T EH1 N] [T E...</td>\n",
       "      <td>['S530', 'T230', 'T000', 'T500', 'T520', 'S330...</td>\n",
       "    </tr>\n",
       "    <tr>\n",
       "      <th>...</th>\n",
       "      <td>...</td>\n",
       "      <td>...</td>\n",
       "      <td>...</td>\n",
       "    </tr>\n",
       "    <tr>\n",
       "      <th>2671</th>\n",
       "      <td>Then step up mister and twist your tongue</td>\n",
       "      <td>['DH', 'EH1', 'N', ' ', 'S', 'T', 'EH1', 'P', ...</td>\n",
       "      <td>['T500', 'S310', 'U100', 'M236', 'A530', 'T230...</td>\n",
       "    </tr>\n",
       "    <tr>\n",
       "      <th>2672</th>\n",
       "      <td>Now Kissle will whistle at busty Miss. Russell...</td>\n",
       "      <td>['N', 'AW1', ' ', 'K', 'IH1', 'S', 'AH0', 'L',...</td>\n",
       "      <td>['N000', 'K240', 'W400', 'W234', 'A300', 'B230...</td>\n",
       "    </tr>\n",
       "    <tr>\n",
       "      <th>2673</th>\n",
       "      <td>Purple paper people, purple paper people, purp...</td>\n",
       "      <td>['P', 'ER1', 'P', 'AH0', 'L', ' ', 'P', 'EY1',...</td>\n",
       "      <td>['P614', 'P160', 'P140', 'P614', 'P160', 'P140...</td>\n",
       "    </tr>\n",
       "    <tr>\n",
       "      <th>2674</th>\n",
       "      <td>De doorgaans dappere Durgerdammer drukker Dirk...</td>\n",
       "      <td>['D', 'IY1', ' ', 'D', 'AO1', 'R', 'G', 'AH0',...</td>\n",
       "      <td>['D000', 'D625', 'D160', 'D626', 'D626', 'D620...</td>\n",
       "    </tr>\n",
       "    <tr>\n",
       "      <th>2675</th>\n",
       "      <td>Nope, an antelope can't elope with a cantelope.</td>\n",
       "      <td>['N', 'OW1', 'P', ' ', ',', ' ', 'AE1', 'N', '...</td>\n",
       "      <td>['N100', 'A500', 'A534', 'C530', 'E410', 'W300...</td>\n",
       "    </tr>\n",
       "  </tbody>\n",
       "</table>\n",
       "<p>2676 rows × 3 columns</p>\n",
       "</div>"
      ],
      "text/plain": [
       "                                                   text  \\\n",
       "0     Peter Piper picked a peck of pickled peppers. ...   \n",
       "1     I saw Susie sitting in a shoe shine shop. Wher...   \n",
       "2     How many boards Could the Mongols hoard If the...   \n",
       "3             How can a clam cram in a clean cream can?   \n",
       "4     Send toast to ten tense stout saints' ten tall...   \n",
       "...                                                 ...   \n",
       "2671          Then step up mister and twist your tongue   \n",
       "2672  Now Kissle will whistle at busty Miss. Russell...   \n",
       "2673  Purple paper people, purple paper people, purp...   \n",
       "2674  De doorgaans dappere Durgerdammer drukker Dirk...   \n",
       "2675    Nope, an antelope can't elope with a cantelope.   \n",
       "\n",
       "                                               phonemes  \\\n",
       "0     [P IY1 T ER0] [P AY1 P ER0] [P IH1 K T] [AH0] ...   \n",
       "1     [AY1] [S AO1] [S UW1 Z IY0] [S IH1 T IH0 NG] [...   \n",
       "2     [HH AW1] [M EH1 N IY0] [B AO1 R D Z] [K UH1 D]...   \n",
       "3     [HH AW1] [K AE1 N] [AH0] [K L AE1 M] [K R AE1 ...   \n",
       "4     [S EH1 N D] [T OW1 S T] [T UW1] [T EH1 N] [T E...   \n",
       "...                                                 ...   \n",
       "2671  ['DH', 'EH1', 'N', ' ', 'S', 'T', 'EH1', 'P', ...   \n",
       "2672  ['N', 'AW1', ' ', 'K', 'IH1', 'S', 'AH0', 'L',...   \n",
       "2673  ['P', 'ER1', 'P', 'AH0', 'L', ' ', 'P', 'EY1',...   \n",
       "2674  ['D', 'IY1', ' ', 'D', 'AO1', 'R', 'G', 'AH0',...   \n",
       "2675  ['N', 'OW1', 'P', ' ', ',', ' ', 'AE1', 'N', '...   \n",
       "\n",
       "                                                soundex  \n",
       "0     ['P360', 'P160', 'P230', 'A000', 'P200', 'O100...  \n",
       "1     ['I000', 'S000', 'S200', 'S352', 'I500', 'A000...  \n",
       "2     ['H000', 'M500', 'B632', 'C430', 'T000', 'M524...  \n",
       "3     ['H000', 'C500', 'A000', 'C450', 'C650', 'I500...  \n",
       "4     ['S530', 'T230', 'T000', 'T500', 'T520', 'S330...  \n",
       "...                                                 ...  \n",
       "2671  ['T500', 'S310', 'U100', 'M236', 'A530', 'T230...  \n",
       "2672  ['N000', 'K240', 'W400', 'W234', 'A300', 'B230...  \n",
       "2673  ['P614', 'P160', 'P140', 'P614', 'P160', 'P140...  \n",
       "2674  ['D000', 'D625', 'D160', 'D626', 'D626', 'D620...  \n",
       "2675  ['N100', 'A500', 'A534', 'C530', 'E410', 'W300...  \n",
       "\n",
       "[2676 rows x 3 columns]"
      ]
     },
     "execution_count": 7,
     "metadata": {},
     "output_type": "execute_result"
    }
   ],
   "source": [
    "df = pd.read_csv('tt_dataset.csv')\n",
    "df"
   ]
  },
  {
   "cell_type": "markdown",
   "metadata": {},
   "source": [
    "## implement metrics"
   ]
  },
  {
   "cell_type": "code",
   "execution_count": 15,
   "metadata": {},
   "outputs": [],
   "source": [
    "### necessary functions\n",
    "\n",
    "# remove all punctuation from a string\n",
    "def remove_punctuation(input_string):\n",
    "    punctuation_chars = string.punctuation # Create a string containing all punctuation marks\n",
    "    no_punct = ''.join(char for char in input_string if char not in punctuation_chars) # Create new string without punctuation\n",
    "    \n",
    "    return no_punct\n",
    "\n"
   ]
  },
  {
   "cell_type": "code",
   "execution_count": 9,
   "metadata": {},
   "outputs": [
    {
     "name": "stdout",
     "output_type": "stream",
     "text": [
      "Peter Piper picked a peck of pickled peppers. A peck of pickled peppers Peter Piper picked. If Peter Piper picked a peck of pickled peppers, Where's the peck of pickled peppers Peter Piper picked?\n"
     ]
    }
   ],
   "source": [
    "tongue_twister = df['text'][0]\n",
    "print(tongue_twister)"
   ]
  },
  {
   "cell_type": "markdown",
   "metadata": {},
   "source": [
    "### for text"
   ]
  },
  {
   "cell_type": "code",
   "execution_count": 33,
   "metadata": {},
   "outputs": [],
   "source": [
    "# calculates levenshtein dist between every two words in a string\n",
    "# args: input string, boolean of allowing transpositions\n",
    "def levenshtein_dist(tongue_twister, transp):\n",
    "    words = remove_punctuation(tongue_twister).split(' ') # split tt into indiv words\n",
    "    levenshtein_arr = np.zeros((len(words), len(words))) # initialise distance array\n",
    "    for i in range(len(words)):\n",
    "        for j in range(i+1, len(words)):\n",
    "            dist = edit_distance(words[i], words[j], substitution_cost=1, transpositions=transp) # Transposition True because of difficukty to distinguish both words\n",
    "            levenshtein_arr[i, j] = dist\n",
    "            levenshtein_arr[j, i] = dist\n",
    "            \n",
    "    return levenshtein_arr\n",
    "\n"
   ]
  },
  {
   "cell_type": "code",
   "execution_count": 32,
   "metadata": {},
   "outputs": [
    {
     "name": "stdout",
     "output_type": "stream",
     "text": [
      "[[0. 2. 5. ... 0. 2. 5.]\n",
      " [2. 0. 4. ... 2. 0. 4.]\n",
      " [5. 4. 0. ... 5. 4. 0.]\n",
      " ...\n",
      " [0. 2. 5. ... 0. 2. 5.]\n",
      " [2. 0. 4. ... 2. 0. 4.]\n",
      " [5. 4. 0. ... 5. 4. 0.]]\n"
     ]
    }
   ],
   "source": [
    "print(levenshtein_arr)"
   ]
  },
  {
   "cell_type": "markdown",
   "metadata": {},
   "source": [
    "### for phonemes"
   ]
  },
  {
   "cell_type": "markdown",
   "metadata": {},
   "source": [
    "### for soundex"
   ]
  },
  {
   "cell_type": "code",
   "execution_count": null,
   "metadata": {},
   "outputs": [],
   "source": []
  }
 ],
 "metadata": {
  "kernelspec": {
   "display_name": "DHBW_DS",
   "language": "python",
   "name": "python3"
  },
  "language_info": {
   "codemirror_mode": {
    "name": "ipython",
    "version": 3
   },
   "file_extension": ".py",
   "mimetype": "text/x-python",
   "name": "python",
   "nbconvert_exporter": "python",
   "pygments_lexer": "ipython3",
   "version": "3.8.13"
  }
 },
 "nbformat": 4,
 "nbformat_minor": 2
}
