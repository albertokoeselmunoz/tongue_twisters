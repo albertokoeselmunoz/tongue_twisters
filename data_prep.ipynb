{
 "cells": [
  {
   "cell_type": "markdown",
   "metadata": {},
   "source": [
    "### Bibliotheken importieren"
   ]
  },
  {
   "cell_type": "code",
   "execution_count": 23,
   "metadata": {},
   "outputs": [],
   "source": [
    "import pandas as pd\n",
    "import string\n",
    "from g2p_en import G2p\n",
    "from pyphonetics import Soundex\n",
    "\n",
    "# pip install g2p_en <- erforderlich für die Phonemtranskribierung analog zur TwistList\n",
    "# pip install pyphonetics <- Soundex"
   ]
  },
  {
   "cell_type": "markdown",
   "metadata": {},
   "source": [
    "### Datenimport"
   ]
  },
  {
   "cell_type": "code",
   "execution_count": 24,
   "metadata": {},
   "outputs": [],
   "source": [
    "# Rohdaten einlesen und Dataframes mit vorgegebenen Spalten erstellen\n",
    "cols_twistlist = ['text', 'phonemes', 'keywords', 'source']\n",
    "twistList = pd.read_csv(r'data source 2\\raw-data\\raw-data\\twister_dataset.csv', delimiter=',',nrows= 3000,header=None, names=cols_twistlist)\n",
    "cols_kaggle = ['0', 'text']\n",
    "kaggle = pd.read_csv(r'data source 2\\raw-data\\raw-data\\datasetKaggle.csv', delimiter=',',nrows= 1000,header=None, usecols=['text'], names=cols_kaggle)\n",
    "\n",
    "# Leerzeilen entfernen\n",
    "kaggle = kaggle.drop(0)\n",
    "twistList = twistList.drop(0)"
   ]
  },
  {
   "cell_type": "markdown",
   "metadata": {},
   "source": [
    "### Datenzusammenführung"
   ]
  },
  {
   "cell_type": "code",
   "execution_count": 25,
   "metadata": {},
   "outputs": [],
   "source": [
    "# Beide DataFrames \"zuschneiden\" (nicht relevante Spalten entfernen)\n",
    "dfTL = twistList.drop(['keywords', 'source'], axis=1)\n",
    "dfKaggle = kaggle.copy()\n",
    "\n",
    "# Zungenbrecher herausfiltern, welche noch nicht in der TwistList sind\n",
    "duplic = dfKaggle[~dfKaggle['text'].isin(dfTL['text'])] \n",
    "\n",
    "# Dataframes zusammenführen\n",
    "finDF = pd.concat([dfTL, duplic], ignore_index=True)\n"
   ]
  },
  {
   "cell_type": "markdown",
   "metadata": {},
   "source": [
    "### Phonem- und Soundex-Spalten hinzufügen"
   ]
  },
  {
   "cell_type": "code",
   "execution_count": 26,
   "metadata": {},
   "outputs": [],
   "source": [
    "# SOUNDEX\n",
    "\n",
    "soundex = Soundex()\n",
    "sx_list = []\n",
    "\n",
    "for i in range(finDF.shape[0]):\n",
    "    # print(i)\n",
    "    word_sx_list = []\n",
    "    text = finDF['text'].iloc[i].strip()\n",
    "    words = text.split(' ')\n",
    "    for word in words:\n",
    "        if any(char.isalpha() for char in word):\n",
    "            word_sx_list.append(soundex.phonetics(word)) # Anm.: Satzzeichen werden von Soundexcodierung ignoriert.\n",
    "    sx_list.append(word_sx_list)\n",
    "\n",
    "finDF['soundex'] = sx_list"
   ]
  },
  {
   "cell_type": "code",
   "execution_count": 27,
   "metadata": {},
   "outputs": [],
   "source": [
    "# PHONEMES\n",
    "\n",
    "g2p = G2p()\n",
    "pn_list = [] \n",
    "\n",
    "punctuation_chars = string.punctuation # String mit allen Satzzeichen erstellen\n",
    "for i in range(finDF.shape[0]):\n",
    "    text = finDF['text'].iloc[i].strip()\n",
    "    text = ''.join(char for char in text if char not in punctuation_chars) # Alle Satzzeichen entfernen (optional)\n",
    "    words = text.split(' ')\n",
    "    text_phonemes = []\n",
    "    for word in words:\n",
    "        text_phonemes.append(g2p(word))\n",
    "    pn_list.append(text_phonemes)\n",
    "    \n",
    "# print(dfKaggleP)\n",
    "# print(len(dfKaggleP))\n",
    "\n",
    "# Liste als neue Spalte an das Dataframe anhängen\n",
    "finDF['phonemes'] = pn_list"
   ]
  },
  {
   "cell_type": "markdown",
   "metadata": {},
   "source": [
    "### Finales Dataframe speichern"
   ]
  },
  {
   "cell_type": "code",
   "execution_count": 28,
   "metadata": {},
   "outputs": [
    {
     "data": {
      "text/html": [
       "<div>\n",
       "<style scoped>\n",
       "    .dataframe tbody tr th:only-of-type {\n",
       "        vertical-align: middle;\n",
       "    }\n",
       "\n",
       "    .dataframe tbody tr th {\n",
       "        vertical-align: top;\n",
       "    }\n",
       "\n",
       "    .dataframe thead th {\n",
       "        text-align: right;\n",
       "    }\n",
       "</style>\n",
       "<table border=\"1\" class=\"dataframe\">\n",
       "  <thead>\n",
       "    <tr style=\"text-align: right;\">\n",
       "      <th></th>\n",
       "      <th>text</th>\n",
       "      <th>phonemes</th>\n",
       "      <th>soundex</th>\n",
       "    </tr>\n",
       "  </thead>\n",
       "  <tbody>\n",
       "    <tr>\n",
       "      <th>0</th>\n",
       "      <td>Peter Piper picked a peck of pickled peppers. ...</td>\n",
       "      <td>[[P, IY1, T, ER0], [P, AY1, P, ER0], [P, IH1, ...</td>\n",
       "      <td>[P360, P160, P230, A000, P200, O100, P243, P16...</td>\n",
       "    </tr>\n",
       "    <tr>\n",
       "      <th>1</th>\n",
       "      <td>I saw Susie sitting in a shoe shine shop. Wher...</td>\n",
       "      <td>[[AY1], [S, AO1], [S, UW1, Z, IY0], [S, IH1, T...</td>\n",
       "      <td>[I000, S000, S200, S352, I500, A000, S000, S50...</td>\n",
       "    </tr>\n",
       "    <tr>\n",
       "      <th>2</th>\n",
       "      <td>How many boards Could the Mongols hoard If the...</td>\n",
       "      <td>[[HH, AW1], [M, EH1, N, IY0], [B, AO1, R, D, Z...</td>\n",
       "      <td>[H000, M500, B632, C430, T000, M524, H630, I10...</td>\n",
       "    </tr>\n",
       "    <tr>\n",
       "      <th>3</th>\n",
       "      <td>How can a clam cram in a clean cream can?</td>\n",
       "      <td>[[HH, AW1], [K, AE1, N], [AH0], [K, L, AE1, M]...</td>\n",
       "      <td>[H000, C500, A000, C450, C650, I500, A000, C45...</td>\n",
       "    </tr>\n",
       "    <tr>\n",
       "      <th>4</th>\n",
       "      <td>Send toast to ten tense stout saints' ten tall...</td>\n",
       "      <td>[[S, EH1, N, D], [T, OW1, S, T], [T, UW1], [T,...</td>\n",
       "      <td>[S530, T230, T000, T500, T520, S330, S532, T50...</td>\n",
       "    </tr>\n",
       "    <tr>\n",
       "      <th>...</th>\n",
       "      <td>...</td>\n",
       "      <td>...</td>\n",
       "      <td>...</td>\n",
       "    </tr>\n",
       "    <tr>\n",
       "      <th>2671</th>\n",
       "      <td>Then step up mister and twist your tongue</td>\n",
       "      <td>[[DH, EH1, N], [S, T, EH1, P], [AH1, P], [M, I...</td>\n",
       "      <td>[T500, S310, U100, M236, A530, T230, Y600, T520]</td>\n",
       "    </tr>\n",
       "    <tr>\n",
       "      <th>2672</th>\n",
       "      <td>Now Kissle will whistle at busty Miss. Russell...</td>\n",
       "      <td>[[N, AW1], [K, IH1, S, AH0, L], [W, IH1, L], [...</td>\n",
       "      <td>[N000, K240, W400, W234, A300, B230, M200, R24...</td>\n",
       "    </tr>\n",
       "    <tr>\n",
       "      <th>2673</th>\n",
       "      <td>Purple paper people, purple paper people, purp...</td>\n",
       "      <td>[[P, ER1, P, AH0, L], [P, EY1, P, ER0], [P, IY...</td>\n",
       "      <td>[P614, P160, P140, P614, P160, P140, P614, P16...</td>\n",
       "    </tr>\n",
       "    <tr>\n",
       "      <th>2674</th>\n",
       "      <td>De doorgaans dappere Durgerdammer drukker Dirk...</td>\n",
       "      <td>[[D, IY1], [D, AO1, R, G, AH0, N, Z], [D, AE1,...</td>\n",
       "      <td>[D000, D625, D160, D626, D626, D620, D636, D00...</td>\n",
       "    </tr>\n",
       "    <tr>\n",
       "      <th>2675</th>\n",
       "      <td>Nope, an antelope can't elope with a cantelope.</td>\n",
       "      <td>[[N, OW1, P], [AE1, N], [AE1, N, T, AH0, L, OW...</td>\n",
       "      <td>[N100, A500, A534, C530, E410, W300, A000, C534]</td>\n",
       "    </tr>\n",
       "  </tbody>\n",
       "</table>\n",
       "<p>2676 rows × 3 columns</p>\n",
       "</div>"
      ],
      "text/plain": [
       "                                                   text  \\\n",
       "0     Peter Piper picked a peck of pickled peppers. ...   \n",
       "1     I saw Susie sitting in a shoe shine shop. Wher...   \n",
       "2     How many boards Could the Mongols hoard If the...   \n",
       "3             How can a clam cram in a clean cream can?   \n",
       "4     Send toast to ten tense stout saints' ten tall...   \n",
       "...                                                 ...   \n",
       "2671          Then step up mister and twist your tongue   \n",
       "2672  Now Kissle will whistle at busty Miss. Russell...   \n",
       "2673  Purple paper people, purple paper people, purp...   \n",
       "2674  De doorgaans dappere Durgerdammer drukker Dirk...   \n",
       "2675    Nope, an antelope can't elope with a cantelope.   \n",
       "\n",
       "                                               phonemes  \\\n",
       "0     [[P, IY1, T, ER0], [P, AY1, P, ER0], [P, IH1, ...   \n",
       "1     [[AY1], [S, AO1], [S, UW1, Z, IY0], [S, IH1, T...   \n",
       "2     [[HH, AW1], [M, EH1, N, IY0], [B, AO1, R, D, Z...   \n",
       "3     [[HH, AW1], [K, AE1, N], [AH0], [K, L, AE1, M]...   \n",
       "4     [[S, EH1, N, D], [T, OW1, S, T], [T, UW1], [T,...   \n",
       "...                                                 ...   \n",
       "2671  [[DH, EH1, N], [S, T, EH1, P], [AH1, P], [M, I...   \n",
       "2672  [[N, AW1], [K, IH1, S, AH0, L], [W, IH1, L], [...   \n",
       "2673  [[P, ER1, P, AH0, L], [P, EY1, P, ER0], [P, IY...   \n",
       "2674  [[D, IY1], [D, AO1, R, G, AH0, N, Z], [D, AE1,...   \n",
       "2675  [[N, OW1, P], [AE1, N], [AE1, N, T, AH0, L, OW...   \n",
       "\n",
       "                                                soundex  \n",
       "0     [P360, P160, P230, A000, P200, O100, P243, P16...  \n",
       "1     [I000, S000, S200, S352, I500, A000, S000, S50...  \n",
       "2     [H000, M500, B632, C430, T000, M524, H630, I10...  \n",
       "3     [H000, C500, A000, C450, C650, I500, A000, C45...  \n",
       "4     [S530, T230, T000, T500, T520, S330, S532, T50...  \n",
       "...                                                 ...  \n",
       "2671   [T500, S310, U100, M236, A530, T230, Y600, T520]  \n",
       "2672  [N000, K240, W400, W234, A300, B230, M200, R24...  \n",
       "2673  [P614, P160, P140, P614, P160, P140, P614, P16...  \n",
       "2674  [D000, D625, D160, D626, D626, D620, D636, D00...  \n",
       "2675   [N100, A500, A534, C530, E410, W300, A000, C534]  \n",
       "\n",
       "[2676 rows x 3 columns]"
      ]
     },
     "execution_count": 28,
     "metadata": {},
     "output_type": "execute_result"
    }
   ],
   "source": [
    "finDF"
   ]
  },
  {
   "cell_type": "code",
   "execution_count": 29,
   "metadata": {},
   "outputs": [],
   "source": [
    "# DataFrame als .csv exportieren\n",
    "\n",
    "filename = f'tt_dataset.csv'\n",
    "finDF.to_csv(filename, index= False)"
   ]
  }
 ],
 "metadata": {
  "kernelspec": {
   "display_name": "Python 3",
   "language": "python",
   "name": "python3"
  },
  "language_info": {
   "codemirror_mode": {
    "name": "ipython",
    "version": 3
   },
   "file_extension": ".py",
   "mimetype": "text/x-python",
   "name": "python",
   "nbconvert_exporter": "python",
   "pygments_lexer": "ipython3",
   "version": "3.8.13"
  }
 },
 "nbformat": 4,
 "nbformat_minor": 2
}
